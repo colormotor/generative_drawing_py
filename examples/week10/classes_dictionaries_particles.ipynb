{
 "cells": [
  {
   "cell_type": "code",
   "execution_count": 1,
   "metadata": {},
   "outputs": [],
   "source": [
    "from py5canvas import *"
   ]
  },
  {
   "cell_type": "markdown",
   "metadata": {},
   "source": [
    "# Classes and dicts\n",
    "\n",
    "Let's start with Python dictionaries (the `dict` type). We have seen these already briefly at the beginning of the module, but will repeat here. \n",
    "Dictionaries have a syntax very similar to general JavaScript \"objects\", and to the JSON (JavaScript Object Notation) file format. They allow to store \"key\"/\"value\" pairs, where the key is usually (but not necessarily) a string. E.g. "
   ]
  },
  {
   "cell_type": "code",
   "execution_count": 2,
   "metadata": {},
   "outputs": [
    {
     "data": {
      "text/plain": [
       "{'name': 'Jason', 'surname': 'Json', 'age': 99}"
      ]
     },
     "execution_count": 2,
     "metadata": {},
     "output_type": "execute_result"
    }
   ],
   "source": [
    "person = {\"name\": \"Jason\",\n",
    "          \"surname\": \"Json\",\n",
    "          \"age\":99}\n",
    "person"
   ]
  },
  {
   "cell_type": "code",
   "execution_count": null,
   "metadata": {},
   "outputs": [],
   "source": []
  },
  {
   "cell_type": "markdown",
   "metadata": {},
   "source": [
    "While in JavaScript this would be an \"object\" and we would access its entries with the dot notation (e.g. `person.name`), the Python syntax requires to access using an array-like notation with the key between square brackets, e.g."
   ]
  },
  {
   "cell_type": "code",
   "execution_count": 3,
   "metadata": {},
   "outputs": [
    {
     "data": {
      "text/plain": [
       "'Jason'"
      ]
     },
     "execution_count": 3,
     "metadata": {},
     "output_type": "execute_result"
    }
   ],
   "source": [
    "person['name']"
   ]
  },
  {
   "cell_type": "markdown",
   "metadata": {},
   "source": [
    "Py5canvas uses and comes with an external library called \"easydict\", which can be used to convert dictionaries to objects that enable the dot notation. Usually we import EasyDict as follows"
   ]
  },
  {
   "cell_type": "code",
   "execution_count": 5,
   "metadata": {},
   "outputs": [],
   "source": [
    "from easydict import EasyDict as edict"
   ]
  },
  {
   "cell_type": "markdown",
   "metadata": {},
   "source": [
    "Meaning that we import the `EasyDict` object from the module `easydict` but refer to it as `edict` (to save typing energy for more important things). So we can do "
   ]
  },
  {
   "cell_type": "code",
   "execution_count": 6,
   "metadata": {},
   "outputs": [
    {
     "name": "stdout",
     "output_type": "stream",
     "text": [
      "Jason\n"
     ]
    }
   ],
   "source": [
    "p = edict(person)\n",
    "print(p.name)"
   ]
  },
  {
   "cell_type": "markdown",
   "metadata": {},
   "source": [
    "We will use this syntax to create a UI for our interactive sketches. We can do so by implementing a `parameters()` function that returns a dictionary:"
   ]
  },
  {
   "cell_type": "code",
   "execution_count": null,
   "metadata": {},
   "outputs": [],
   "source": [
    "def parameters():\n",
    "    params = {'Amount': (0.0, {'min':0.01, 'max':1.0}),\n",
    "              'Background color': ([255, 0, 128], {'type':'color'}), \n",
    "               'A text field': 'Hello'}\n",
    "    return params"
   ]
  },
  {
   "cell_type": "markdown",
   "metadata": {},
   "source": [
    "With this code in your sketch, you will be able to modify these parameters using a global `params` easy dict, where the entries will be the name you gave a parameter, all lower case and with spaces replaced by underscores (`_`). So for example the \"Background color\" property will be accessible with `params.background_color`."
   ]
  },
  {
   "cell_type": "markdown",
   "metadata": {},
   "source": [
    "##  Classes\n",
    "Python is an object oriented language, meaning that you can define \"things\" (i.e. objects) by creating classes. A class is like a blueprint or a template for creating objects. Imagine you’re building a car. A class would describe what a car is—how many wheels it has, what color it can be, and how it can move. But it’s not an instantiation of an actual car yet, it’s just the design for what an actual car could be.\n",
    "\n",
    "A class typically includes:\n",
    "\n",
    "**Attributes**:\n",
    "These are like variables specific to the class or the objects created from the class.\n",
    "They describe the \"properties\" of an object. For example, a car’s color, brand, and number of wheels.\n",
    "Objects can have their own unique values for these attributes.\n",
    "\n",
    "**Methods**:\n",
    "These are like functions specific to the class and the objects created from it.\n",
    "They define the \"behaviors\" of the object—what the object can do or how it can interact with the world. For example, a car might have a `drive()` method or a `honk()` method.\n",
    "\n",
    "**Constructor**:\n",
    "This is a special method in Python (called `__init__`) that defines how to create an object (or instance) from the class.\n",
    "It allows you to set up attributes when an object is created.\n",
    "\n",
    "Similarly to JavaScript, defininig a class requires having access to a variable that internally refers to the instance of the class that has been created. In Python this variable is defined with a special attribute called `self` (as opposed to `this` used in JS).\n",
    "\n",
    "Differently from most Python code using lower-case and \"snake case\" (`snake_case`), the standard is to define classes in Python using a capital for the first letter of its name and camel case. E.g, we could define a class `FantasticCar`. A reader of the code usually knows that because of the capital, `FantasticCar` is a class name:\n"
   ]
  },
  {
   "cell_type": "code",
   "execution_count": null,
   "metadata": {},
   "outputs": [
    {
     "name": "stdout",
     "output_type": "stream",
     "text": [
      "Red\n",
      "Toyota\n",
      "The  Red   Toyota  car is driving!\n",
      "Honk! Honk!\n",
      "The  Blue   Fiat  car is driving!\n"
     ]
    }
   ],
   "source": [
    "class Vehicle:\n",
    "    def __init__(self, brand):\n",
    "        self.brand = brand\n",
    "\n",
    "# Define a class (blueprint)\n",
    "class FantasticCar(Vehicle):\n",
    "    def __init__(self, color, brand):  # Constructor to set up the object\n",
    "        super().__init__(brand)\n",
    "        \n",
    "        self.color = color  # Attribute: color of the car\n",
    "        self.brand = brand  # Attribute: brand of the car\n",
    "    \n",
    "    def drive(self):  # Method: behavior of the car\n",
    "        print(\"The \", self.color, \" \", self.brand, \" car is driving!\")\n",
    "    \n",
    "    def honk(self):  # Method: another behavior\n",
    "        print(\"Honk! Honk!\")\n",
    "\n",
    "    def get_color(self):\n",
    "        return self.color\n",
    "    \n",
    "# Create an object (instance) from the class\n",
    "my_car = FantasticCar(color=\"Red\", brand=\"Toyota\")  # Instance of Car class\n",
    "print(my_car.color)  # Accessing an attribute: Output => Red\n",
    "print(my_car.brand)  # Accessing an attribute: Output => Toyota\n",
    "\n",
    "# Use methods\n",
    "my_car.drive()  # Output => The Red Toyota car is driving!\n",
    "my_car.honk()   # Output => Honk! Honk!\n",
    "\n",
    "# Create another object (instance)\n",
    "another_car = FantasticCar(color=\"Blue\", brand=\"Fiat\")\n",
    "another_car.drive()  # Output => The Blue Honda car is driving!"
   ]
  },
  {
   "cell_type": "markdown",
   "metadata": {},
   "source": [
    "Note that each \"method\" of the class has a first parameter called `self`. This is the syntax used by Python to inform the function (method) about the specific instance of the class that has been created, giving the method access to the parameters of the instance (e.g. here `self.brand` is the brand).\n",
    "\n",
    "How is this useful? Prototypical use of a classes is to abstract and organize data for objects in a game or interactive environment, e.g. a player, an enemy a particle system, a particle etc. An example of a class we have used is `VideoInput` in Py5Canvas. It contains the functionalities that you need to play movies or get video from the camera. To get access to these functionalities you \"instantiate\" a `VideoInput` object using a constructor that specifies its properties (e.g. the size of a frame). As a practical example for this session we will see a particle, which can have a position a velocity an acceleration and a \"lifetime\".\n",
    "\n",
    "This could be something like this:"
   ]
  },
  {
   "cell_type": "code",
   "execution_count": 10,
   "metadata": {},
   "outputs": [],
   "source": [
    "class Particle:\n",
    "    def __init__(self, lifetime=3.0):\n",
    "        self.lifetime = lifetime\n",
    "        self.life = self.lifetime\n",
    "        self.reset()\n",
    "\n",
    "    def reset(self):\n",
    "        self.pos = np.array(center)\n",
    "        self.vel = np.zeros(2)\n",
    "        angle = -PI/2 + np.random.uniform(-1, 1)*0.2\n",
    "        self.acc = np.array([np.cos(angle), np.sin(angle)])*400*np.random.uniform(0.5, 1.0)\n",
    "        self.life = self.lifetime\n",
    "    \n",
    "    def update(self, dt, force=np.zeros(2)):\n",
    "        self.acc += force\n",
    "        self.acc += Vector(0, 9.8) # Gravity\n",
    "        self.vel += self.acc*dt \n",
    "        self.pos += self.vel*dt\n",
    "        self.life -= dt\n",
    "        if self.life <= 0:\n",
    "            self.reset()\n",
    "\n",
    "    def draw(self):\n",
    "        fill(255, 255*(self.life/self.lifetime))\n",
    "        circle(self.pos, 2)\n"
   ]
  },
  {
   "cell_type": "markdown",
   "metadata": {},
   "source": [
    "Here we give a particle a `lifetime` in seconds and a member `life` that decreases each time the `update` method is called. Once `life` reaches zero, the particle is re-initialized.\n",
    "\n",
    "Here a particle is initialized with the `reset` method when it is constructed (in the `__init__` specialized constructor method) or when `life` reaches zero. Note that in `reset` we set the initial position to the built in vector `center`, which corresponds to the center of the canvas. You can set this to any position you like, e.g (`mouse_pos`).\n",
    "\n",
    "The `update` method takes care of the motion of a particle and relies on a parameter `dt` that gives the time step for a tick of the simulation. In practice, the smaller this value, the more accurate the simulation would be. But we can use 1/60, taking into account the frame rate of a sketch. The procedure then consists of adding forces to the acceleration of the particle (e.g. gravity), adding the acceleration to the velocity of the particle, and finally adding the velocity to the position, thus resulting in the motion. We multiply by `dt` since velocity and accelerations are rates of change that depend on time, e.g. velocity is \"change in position per second\" and acceleration is \"change in velocity per second\".\n",
    "\n",
    "\n",
    "\n",
    "\n",
    "\n"
   ]
  }
 ],
 "metadata": {
  "kernelspec": {
   "display_name": "base",
   "language": "python",
   "name": "python3"
  },
  "language_info": {
   "codemirror_mode": {
    "name": "ipython",
    "version": 3
   },
   "file_extension": ".py",
   "mimetype": "text/x-python",
   "name": "python",
   "nbconvert_exporter": "python",
   "pygments_lexer": "ipython3",
   "version": "3.10.8"
  }
 },
 "nbformat": 4,
 "nbformat_minor": 2
}
