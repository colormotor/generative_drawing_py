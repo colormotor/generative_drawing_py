{
 "cells": [
  {
   "cell_type": "markdown",
   "id": "ad55e37d-31e6-4f34-a1d9-6b33b2734ee4",
   "metadata": {},
   "source": [
    "From Javascript to Python\n",
    "=========================\n",
    "\n"
   ]
  },
  {
   "cell_type": "markdown",
   "id": "1d9d8699-2355-4464-8c38-45cd4c977a5e",
   "metadata": {},
   "source": [
    "This will cover some of Python, for another good introduction to the language refer to [https://www.codecademy.com/learn](https://www.codecademy.com/learn).\n",
    "\n",
    "Similarly to Javascript Python in an interpreted language. It has a less\n",
    "&ldquo;verbose&rdquo; syntax than JS hovwever, and some particular advantages.\n",
    "\n",
    "Let&rsquo;s look at some fundamental differences:\n",
    "\n"
   ]
  },
  {
   "cell_type": "markdown",
   "id": "b52d45f5-0cf2-40f4-9ac4-cb3e75279547",
   "metadata": {},
   "source": [
    "## Variables\n",
    "\n"
   ]
  },
  {
   "cell_type": "markdown",
   "id": "e57f351b-406a-4f46-a85d-12f21bcae36f",
   "metadata": {},
   "source": [
    "In JavaScript we declare variables with keywords such as `let`, `var`, `const`. Python does not have that,\n",
    "we just create a variable by assigning it a value.\n",
    "E.g Javascript&rsquo;s\n",
    "\n",
    "    var a = 10;\n",
    "    var b = 100;\n",
    "\n",
    "would be\n",
    "\n"
   ]
  },
  {
   "cell_type": "code",
   "execution_count": 1,
   "id": "aa1a42f9-6642-4df9-9ca3-574c84741aed",
   "metadata": {},
   "outputs": [],
   "source": [
    "a = 10\n",
    "b = 10"
   ]
  },
  {
   "cell_type": "markdown",
   "id": "813808c6-edfd-4a3b-865e-cc8df334eafa",
   "metadata": {},
   "source": [
    "Note that we do not need the semicolons (actually we don&rsquo;t need those in JS either, it is a convention).\n",
    "\n",
    "Similarly to JavaScript, variables have types that are inferred dynamically. By default Python comes with these main types, which can be recognized by the\n",
    "initialization syntax:\n",
    "\n",
    "-   `string`, strings of text. It is delimited by double or single quotes (e.g. `\"hello\"` or `'Hello world'`).\n",
    "-   `int`, integers (e.g. `0`, `100`, `-420`).\n",
    "-   `float`, floating point numbers (e.g. `0.3`, `-1.22321112`).\n",
    "-   `tuple`, a immutable sequence of variables. It is delimited by parentheses (e.g. `(0, 1, 2)`, `(\"a\", \"b\")`).\n",
    "-   `list`, a mutable list/array of elements. It is delimited by square brackets (e.g. `[0, 1, 2]`, `[\"a\", \"b\"]`).\n",
    "-   `dict`, a dictionary that relates &ldquo;keys&rdquo; (usually strings but not necessarily) to values, with keys related to values by a colon. It is delimited by curly braces (e.g. `{'name':'Joe', 'age':99}` or `{'height':10, 5: 10}`.\n",
    "\n",
    "You can always query the type of a variable with the builtin `type(..)` function, e.g:\n",
    "\n"
   ]
  },
  {
   "cell_type": "code",
   "execution_count": 1,
   "id": "e10f41b3-808e-4b1d-b169-0aec2e1ed791",
   "metadata": {},
   "outputs": [
    {
     "name": "stdout",
     "output_type": "stream",
     "text": [
      "<class 'int'>"
     ]
    }
   ],
   "source": [
    "g = 10\n",
    "print(type(g))"
   ]
  },
  {
   "cell_type": "markdown",
   "id": "b246b15d-5394-4e69-b691-0da5ff4c3a61",
   "metadata": {},
   "source": [
    "Some types can be converted between each other by using the type name as a function, e.g. `str(10)` will convert 10 to a string, or `int(\"10\")` will convert the string to an int (if possible).\n",
    "\n"
   ]
  },
  {
   "cell_type": "markdown",
   "id": "38c66025-3532-47f5-aa20-275c91ac0417",
   "metadata": {},
   "source": [
    "## Comments\n",
    "\n"
   ]
  },
  {
   "cell_type": "markdown",
   "id": "9cf4e004-b0ba-45c9-9740-40c088945d1f",
   "metadata": {},
   "source": [
    "We do want to write comments in our code right? This will keep you and who is evaluating your code sane.\n",
    "In Javascript we have two syntaxes to write comments:\n",
    "\n",
    "    // This syntax for a single line comment\n",
    "\n",
    "and\n",
    "\n",
    "    /* This syntax for\n",
    "    (potentially) multi-line comments */\n",
    "\n",
    "In python we use the `#` symbol to demarkate a comment\n",
    "\n"
   ]
  },
  {
   "cell_type": "code",
   "execution_count": 1,
   "id": "0f1d89f4-3e31-4084-bfd3-34c8248ceac1",
   "metadata": {},
   "outputs": [],
   "source": [
    "# This is a common Python comment\n",
    "a = 20 # It can be put on the same line"
   ]
  },
  {
   "cell_type": "markdown",
   "id": "7eeae1c9-9d8d-4c37-9753-9c470ed3e562",
   "metadata": {},
   "source": [
    "Another way you might come across for multiline comments is the following:\n",
    "\n"
   ]
  },
  {
   "cell_type": "code",
   "execution_count": 1,
   "id": "70e5ccc8-24cc-49fe-ac37-ca1ba1c18dc9",
   "metadata": {},
   "outputs": [],
   "source": [
    "''' This is a multiline comment\n",
    "    with longer text\n",
    "    ...and more text'''"
   ]
  },
  {
   "cell_type": "markdown",
   "id": "a5f1c715-3e2b-4ab9-bc48-a16eb4c508ed",
   "metadata": {},
   "source": [
    "or\n",
    "\n"
   ]
  },
  {
   "cell_type": "code",
   "execution_count": 1,
   "id": "19dbb0e1-4c3e-4a50-9c37-1d5a7d15d25d",
   "metadata": {},
   "outputs": [],
   "source": [
    "\"\"\" This is a multiline comment\n",
    "    with longer text\n",
    "    ...and more text\"\"\""
   ]
  },
  {
   "cell_type": "markdown",
   "id": "02eb51fc-61bb-49de-9165-0b88dc9942c1",
   "metadata": {},
   "source": [
    "In practice these are &ldquo;multiline string&rdquo;, which is delimited by three quotes `'''` (or equivalently `\"\"\"`).\n",
    "For example\n",
    "\n"
   ]
  },
  {
   "cell_type": "code",
   "execution_count": 1,
   "id": "afa73b91-0862-4f7a-b656-9192f05eab14",
   "metadata": {},
   "outputs": [],
   "source": [
    "multiline_text = '''This string will contain newlines\n",
    "when I enter a newline in the definition'''"
   ]
  },
  {
   "cell_type": "markdown",
   "id": "7c83f8e5-e4db-43ae-8bff-568085869b1b",
   "metadata": {},
   "source": [
    "## Strings\n",
    "\n"
   ]
  },
  {
   "cell_type": "markdown",
   "id": "ecf1e426-a5bf-4311-9e76-d776d14ff7ee",
   "metadata": {},
   "source": [
    "We have seen an example of a multiline string above, which can be used also as a comment (usually an important one, e.g. the documentation of a function). Otherwise we can define strings similarly to Javascript with either single quotes `'Hello'` and double quotes `\"Hello\"` . We can use either as long as we are consistent (e.g. `` \"Hello` `` will not work and likewise `\"\"\"Hello'''` will not work either).\n",
    "\n",
    "The `+` operator concatenates two strings, e.g.\n",
    "\n"
   ]
  },
  {
   "cell_type": "code",
   "execution_count": 1,
   "id": "f134c14a-afb2-4f29-8d25-838da210d4ff",
   "metadata": {},
   "outputs": [],
   "source": [
    "\"Hello\" + \" ,world!\""
   ]
  },
  {
   "cell_type": "markdown",
   "id": "87062a03-4584-45ee-8ea5-2e9d9ce4cff5",
   "metadata": {},
   "source": [
    "and we can convert a number or other object to a string using the `str` keyword. E.g.\n",
    "\n"
   ]
  },
  {
   "cell_type": "code",
   "execution_count": 1,
   "id": "7f89df0d-a763-44ab-ae48-a7552533d71f",
   "metadata": {},
   "outputs": [],
   "source": [
    "\"Hello class of \" + str(50)"
   ]
  },
  {
   "cell_type": "markdown",
   "id": "8dee9821-4bf2-4025-bbaa-582236b35fdd",
   "metadata": {},
   "source": [
    "There are other more sophisticated ways to create strings. E.g. using the [&ldquo;format&rdquo;](https://www.w3schools.com/python/ref_string_format.asp) approach or using a [formatting syntax similar to C/C++](https://www.learnpython.org/en/String_Formatting).\n",
    "\n"
   ]
  },
  {
   "cell_type": "markdown",
   "id": "5139c83c-cf74-4c7d-8776-7af02ed70bc7",
   "metadata": {},
   "source": [
    "## Identation and scope\n",
    "\n"
   ]
  },
  {
   "cell_type": "markdown",
   "id": "ecf283c8-5f76-48e3-9525-09dc43d9aa4a",
   "metadata": {},
   "source": [
    "Now to the biggest difference. In Javascript we enclose &ldquo;content&rdquo;, such as the\n",
    "body of a function, or the operations following an `if` statement, with curly\n",
    "braces (`{` and `}`). The curly braces define what is known as &ldquo;scope&rdquo;.\n",
    "\n",
    "    function doSomething() {\n",
    "        if (a == 10){\n",
    "            print(\"A is 10\");\n",
    "        }else if (a==5){\n",
    "            print(\"A is 5\");\n",
    "        }else{\n",
    "            print(\"A is something else\")\n",
    "        }\n",
    "    }\n",
    "\n",
    "Let&rsquo;s look at the same function in Python:\n",
    "\n"
   ]
  },
  {
   "cell_type": "code",
   "execution_count": 1,
   "id": "639b9832-b886-44eb-ae90-aad3af818953",
   "metadata": {},
   "outputs": [],
   "source": [
    "def doSomething():\n",
    "    if a==10:\n",
    "        print(\"A is 10\")\n",
    "    elif a==5:\n",
    "        print(\"A is 5\")\n",
    "    else:\n",
    "        print(\"A is something else\")"
   ]
  },
  {
   "cell_type": "markdown",
   "id": "d90a8a2f-4641-4c23-b210-732d3fe5fdc7",
   "metadata": {},
   "source": [
    "So we have the same `()` syntax for the defining functions but instead of\n",
    "`function` we use `def` and most importantly we define scope using a colon `:`\n",
    "followed by a new line and an **indentation**. In practice, when you write **clean**\n",
    "javascript you follow a similar procedure. So if you remove the opening curly\n",
    "braces in the example above with a colon, replace `function` with `def` and\n",
    "remove the closing `}` we basically are done with translating the code. Note\n",
    "that we can write `if a==10` without the parentheses. Indeed for `if` statements\n",
    "or other basic statements (e.g. `for`, `while`) the parentheses are optional in\n",
    "Python. Not a problem if you use them though.\n",
    "Note also that istead of `else if`, Python uses the `elif` keyword.\n",
    "\n"
   ]
  },
  {
   "cell_type": "markdown",
   "id": "0471648f-7383-48a9-94ef-1dd004f62a13",
   "metadata": {},
   "source": [
    "## Syntax conventions\n",
    "\n"
   ]
  },
  {
   "cell_type": "markdown",
   "id": "d0935854-2070-4524-a8c2-7e48cd660816",
   "metadata": {},
   "source": [
    "It is always good to give variable names that are meaningful. Typically, in JavaScript and similar languages, the convention is to use &ldquo;camel case&rdquo; to concatenate multiple words into a statement, where words are captialized to improve readability. E.g. `myMeaningfulVariable` or `doSomethingCool`.\n",
    "In Python the convention is to use &ldquo;snake case&rdquo;, where words are lowercase and separated by underscores. E.g. `my_meaningful_variable` or `do_something_cool`.\n",
    "It is good practice to keep this convention when writing Python, as it the code becomes more readable with a more pleasant and tidy aesthetic.\n",
    "\n"
   ]
  },
  {
   "cell_type": "markdown",
   "id": "b0691a91-7b4b-4162-acce-813255128025",
   "metadata": {},
   "source": [
    "## Lists, iterables, dictionaries and sets\n",
    "\n"
   ]
  },
  {
   "cell_type": "markdown",
   "id": "c930b94a-ce34-410a-996f-81a3c1e70aa7",
   "metadata": {},
   "source": [
    "Python offers quite powerful default datatypes that have similarities to Javascript.\n",
    "Let&rsquo;s start with [lists](https://www.w3schools.com/python/python_lists.asp), which are very similar to Javascript&rsquo;s `Array` but have a more concise syntax.\n",
    "\n"
   ]
  },
  {
   "cell_type": "markdown",
   "id": "31fa5420-9960-487e-b58c-57e3e9cccb87",
   "metadata": {},
   "source": [
    "#### Lists\n",
    "\n"
   ]
  },
  {
   "cell_type": "markdown",
   "id": "4f636551-4ae6-48b6-aaf4-c9d3d625c587",
   "metadata": {},
   "source": [
    "A `list`, similarly to an `Array` in Javascript, can be simply created using square brackets:\n",
    "\n"
   ]
  },
  {
   "cell_type": "code",
   "execution_count": 1,
   "id": "1e9cb12e-a902-4e78-9855-e7d6be4aa449",
   "metadata": {},
   "outputs": [],
   "source": [
    "myList = [0, 1, 4, 6, 10]"
   ]
  },
  {
   "cell_type": "markdown",
   "id": "e65a9c9c-9b23-4a08-8840-572ad5bc20a5",
   "metadata": {},
   "source": [
    "we can index the list using square brackets, e.g.\n",
    "\n"
   ]
  },
  {
   "cell_type": "code",
   "execution_count": 1,
   "id": "07dcee4f-92b2-4128-a4bf-8340d7f3cea2",
   "metadata": {},
   "outputs": [],
   "source": [
    "myList[2]"
   ]
  },
  {
   "cell_type": "markdown",
   "id": "a8ab314e-ea54-451a-ba10-5e75ee3de449",
   "metadata": {},
   "source": [
    "will give us the third element in the list (starting from `0`, like JS).\n",
    "We can also set an element (as long as the list has enough elements) with the same syntax\n",
    "\n"
   ]
  },
  {
   "cell_type": "code",
   "execution_count": 1,
   "id": "b5330931-0064-4a00-8470-e47bec7189ae",
   "metadata": {},
   "outputs": [],
   "source": [
    "myList[2] = 10000"
   ]
  },
  {
   "cell_type": "markdown",
   "id": "cd2dced2-343b-4379-87c3-00f718f1e81d",
   "metadata": {},
   "source": [
    "We can add or &ldquo;pop&rdquo; elements from a list similarly to Javascript, but using the\n",
    "`append` and `pop` methods (these are equivalent to `push` and `pop` in\n",
    "javascript). E.g let&rsquo;s create an empty list and add two strings to it:\n",
    "\n"
   ]
  },
  {
   "cell_type": "code",
   "execution_count": 1,
   "id": "bef53bc8-00ef-434e-a2f5-f22aeed73a7d",
   "metadata": {},
   "outputs": [],
   "source": [
    "myList = []\n",
    "myList.append(\"Hello\")\n",
    "myList.append(\", \")\n",
    "myList.append(\"World\")"
   ]
  },
  {
   "cell_type": "markdown",
   "id": "26cb1988-ea38-4151-b497-a1132d280081",
   "metadata": {},
   "source": [
    "By default the `pop` keyword will remove the last element of the list and return it, for example\n",
    "\n"
   ]
  },
  {
   "cell_type": "code",
   "execution_count": 1,
   "id": "9156198c-eec5-4557-8a2e-0d7f29b90791",
   "metadata": {},
   "outputs": [
    {
     "name": "stdout",
     "output_type": "stream",
     "text": [
      "World"
     ]
    }
   ],
   "source": [
    "print(myList.pop())"
   ]
  },
  {
   "cell_type": "markdown",
   "id": "b61d13b1-c4f4-4880-8908-42019da19eef",
   "metadata": {},
   "source": [
    "We can also give pop an index, so\n",
    "\n"
   ]
  },
  {
   "cell_type": "code",
   "execution_count": 1,
   "id": "09da16fb-8332-479d-83c5-60571b0ff45c",
   "metadata": {},
   "outputs": [
    {
     "name": "stdout",
     "output_type": "stream",
     "text": [
      "Hello"
     ]
    }
   ],
   "source": [
    "myList.pop(0)"
   ]
  },
  {
   "cell_type": "markdown",
   "id": "ffb60749-c0ac-499c-9938-f9d083e63b76",
   "metadata": {},
   "source": [
    "will remove the *first* element from the list and return it.\n",
    "\n",
    "While in Javascript we used the `length` property to get the size of an array,\n",
    "in Python we get the number of elements in a list (or in other types of objects\n",
    "as well, such as strings) with the `len` function. E.g.\n",
    "\n"
   ]
  },
  {
   "cell_type": "code",
   "execution_count": 1,
   "id": "2f51326a-6e38-492e-ae28-6a544f91f32e",
   "metadata": {},
   "outputs": [
    {
     "name": "stdout",
     "output_type": "stream",
     "text": [
      "1\n",
      "5"
     ]
    }
   ],
   "source": [
    "num_elements = len(myList)\n",
    "print(num_elements)\n",
    "name = \"hello\"\n",
    "print(len(name)) # This give us the length of the string"
   ]
  },
  {
   "cell_type": "markdown",
   "id": "90381e96-877c-4326-9342-6b697b55eba6",
   "metadata": {},
   "source": [
    "#### Indexing and slicing lists\n",
    "\n"
   ]
  },
  {
   "cell_type": "markdown",
   "id": "ecef4282-8899-4ae5-b328-82e9abfc2aec",
   "metadata": {},
   "source": [
    "One nice feature of Python is that we can index a list backwards. For instance\n",
    "`myList[-1]` will give us the last element of the list, `myList[-2]` the second to last, and so forth. This is very convenient as otherwise we would have to a syntax like `myList[len(myList)-1-2]` to index the second to last element.\n",
    "\n",
    "In addition, and more on this later, we can easily slice up a list. We will not cover every technique here but for example we can get the first three elements of a list:\n",
    "\n"
   ]
  },
  {
   "cell_type": "code",
   "execution_count": 1,
   "id": "eb3cb0ed-341a-42d8-9163-24bd09d1c08a",
   "metadata": {},
   "outputs": [
    {
     "name": "stdout",
     "output_type": "stream",
     "text": [
      "| 0 | 1 | 3 |"
     ]
    }
   ],
   "source": [
    "elements = [0, 1, 3, 5, 7]\n",
    "elements[:3]"
   ]
  },
  {
   "cell_type": "markdown",
   "id": "a6b344ee-23dc-411e-a81c-5ea1036b10fd",
   "metadata": {},
   "source": [
    "or for example skip the first two elements with:\n",
    "\n"
   ]
  },
  {
   "cell_type": "code",
   "execution_count": 1,
   "id": "0a416c92-d6d7-49e3-9f1d-49e788dc2c05",
   "metadata": {},
   "outputs": [
    {
     "name": "stdout",
     "output_type": "stream",
     "text": [
      "| 3 | 5 | 7 |"
     ]
    }
   ],
   "source": [
    "elements[2:]"
   ]
  },
  {
   "cell_type": "markdown",
   "id": "42891f4d-3a5d-41e0-9cd5-6d905c0776dd",
   "metadata": {},
   "source": [
    "or skip the fist and last element with:\n",
    "\n"
   ]
  },
  {
   "cell_type": "code",
   "execution_count": 1,
   "id": "ce69c088-e09c-4b2b-a5b5-10c9900374eb",
   "metadata": {},
   "outputs": [
    {
     "name": "stdout",
     "output_type": "stream",
     "text": [
      "| 1 | 3 | 5 |"
     ]
    }
   ],
   "source": [
    "elements[1:-1]"
   ]
  },
  {
   "cell_type": "markdown",
   "id": "11a22bf3-a4ba-422c-bd3f-fb9be3755c60",
   "metadata": {},
   "source": [
    "Experiment with the code to get a feel of what is possible and more information can be found here [https://www.learnbyexample.org/python-list-slicing/](https://www.learnbyexample.org/python-list-slicing/).\n",
    "\n"
   ]
  },
  {
   "cell_type": "markdown",
   "id": "236cdc46-eb83-4600-a2d4-8c28c4fa3acf",
   "metadata": {},
   "source": [
    "### Iterables and loops\n",
    "\n"
   ]
  },
  {
   "cell_type": "markdown",
   "id": "204897bd-de09-426e-9a7b-b4f4403d0326",
   "metadata": {},
   "source": [
    "Another quite drastic difference between Python and Javascript is the way in we define loops. In Javascript we have the typical `for` loop contruct\n",
    "\n",
    "    for (let i = 0; i < 10; i++){\n",
    "        print(i)\n",
    "    }\n",
    "\n",
    "but this does not really exist in Python. To do an equivalent for loop we would write:\n",
    "\n"
   ]
  },
  {
   "cell_type": "code",
   "execution_count": 1,
   "id": "2f319615-0300-4b30-9a52-340ae6fc6eab",
   "metadata": {},
   "outputs": [],
   "source": [
    "for i in range(10):\n",
    "    print(i)"
   ]
  },
  {
   "cell_type": "markdown",
   "id": "7d46fd82-4d67-488b-86f9-b3bf4e3f02eb",
   "metadata": {},
   "source": [
    "here [range](https://www.w3schools.com/python/ref_func_range.asp) is a function that returns an object that can be iterated. It is similar to a `list`, but it is actually known as a [generator](https://www.programiz.com/python-programming/generator). We will not go into details on generators here, but think of it as optimized lists that can be accessed sequentially. The syntax `range(10)` gives us a sequence of numbers from zero to 10, not including 10. We can display it by converting it to a list with\n",
    "\n"
   ]
  },
  {
   "cell_type": "code",
   "execution_count": 1,
   "id": "bcf05434-a200-4bd9-ab7d-027e93186bba",
   "metadata": {},
   "outputs": [],
   "source": [
    "list(range(10))"
   ]
  },
  {
   "cell_type": "markdown",
   "id": "fb8a3f78-9952-4b48-9dad-077ba70b259d",
   "metadata": {},
   "source": [
    "The `for` keyword essentially extracts elements from an object that can be iterated. This object can be a generator (such as a `range`) or a list. For example using the earlier list:\n",
    "\n"
   ]
  },
  {
   "cell_type": "code",
   "execution_count": 1,
   "id": "66d12f8c-d791-4665-ad65-7eecfbe61fd2",
   "metadata": {},
   "outputs": [],
   "source": [
    "for s in myList:\n",
    "    print(s)"
   ]
  },
  {
   "cell_type": "markdown",
   "id": "73c39773-8c73-48b0-84b8-a8b25ab76293",
   "metadata": {},
   "source": [
    "goes through the list. This may look strange at first, but it is a very powerful construct. A perhaps useful way of thinking of it is to see the `for` as a machine that sequentially extracts elements from a list, or an object that can be iterated, until these elements are finished.\n",
    "As another example, say we want to loop through the characters of the string &ldquo;hello world&rdquo;. Since also strings are iteratable, we can simply do:\n",
    "\n"
   ]
  },
  {
   "cell_type": "code",
   "execution_count": 1,
   "id": "7fadc440-d692-443a-b688-f8a9fa0dcbf7",
   "metadata": {},
   "outputs": [],
   "source": [
    "for c in \"hello world\":\n",
    "    print(c)"
   ]
  },
  {
   "cell_type": "markdown",
   "id": "15d7db31-5f4d-49f1-a7bf-a4195b9cea17",
   "metadata": {},
   "source": [
    "We will see later many other useful ways to generate lists or arrays that can be iterated with `for`.\n",
    "\n"
   ]
  },
  {
   "cell_type": "markdown",
   "id": "665a855b-68e6-4326-b7f2-73399f50717e",
   "metadata": {},
   "source": [
    "##### List comprehensions (more advanced)\n",
    "\n"
   ]
  },
  {
   "cell_type": "markdown",
   "id": "588ed9f7-31e4-44a2-b30d-f5ec85b6a444",
   "metadata": {},
   "source": [
    "&ldquo;List comprehension&rdquo; are a (perhaps cryptic looking) construct that is very much used in Python and is worth knowing about.\n",
    "Essentially it consists of a concise way to generate lists by placing a for loop witin the brackets that define the list.\n",
    "E.g. say we wanted to have a list with the length of each string in our `myList` list.\n",
    "We can do\n",
    "\n"
   ]
  },
  {
   "cell_type": "code",
   "execution_count": 1,
   "id": "004952db-1ee9-4d48-8589-24ac49baa1f1",
   "metadata": {},
   "outputs": [],
   "source": [
    "lengths = [len(string) for string in myList]"
   ]
  },
  {
   "cell_type": "markdown",
   "id": "08839afc-251d-4bb6-b456-683c27b2833c",
   "metadata": {},
   "source": [
    "Reading this out loud would be\n",
    "> Create a list (using an opening `[`) and put `len(string)` into each element of the list, for each `string` contained in `myList`. Finish creating the list (closing `]`)Even more powerful, we can filter out elements by even adding an if statement at the end of this expression. E.g.\n",
    "\n"
   ]
  },
  {
   "cell_type": "code",
   "execution_count": 1,
   "id": "dafcfab0-edc2-406e-8d9b-05ddbcbf7211",
   "metadata": {},
   "outputs": [],
   "source": [
    "[string for string in myList if string[0]=='H']"
   ]
  },
  {
   "cell_type": "markdown",
   "id": "21780d9e-5047-4cad-a996-a1a5dd85c58f",
   "metadata": {},
   "source": [
    "will give us a new list, where an element is present only if it starts with the &ldquo;H&rdquo;. So if our list is unchanged, it will contain only one element.\n",
    "\n"
   ]
  },
  {
   "cell_type": "markdown",
   "id": "e798e6d2-2ca0-46d0-b45e-d08e3fd25b79",
   "metadata": {},
   "source": [
    "### Tuples\n",
    "\n"
   ]
  },
  {
   "cell_type": "markdown",
   "id": "0bc17ecd-4c77-4dcc-8bc2-8cfc75b74019",
   "metadata": {},
   "source": [
    "The `tuple` object in Python is an iterable object very similar to a `list`, with the main difference that it is **immutable**. We create it with opening and closing round brackets. E.g.\n",
    "\n"
   ]
  },
  {
   "cell_type": "code",
   "execution_count": 1,
   "id": "6b63819a-f38a-4e62-903a-3dff5c5e4b27",
   "metadata": {},
   "outputs": [],
   "source": [
    "vals = (10, 20, 30)"
   ]
  },
  {
   "cell_type": "markdown",
   "id": "5bccc037-d29a-4287-874d-87fb9233cac7",
   "metadata": {},
   "source": [
    "However, while for the case of a list we could assign an element, for tuples this is not possible. E.g\n",
    "\n"
   ]
  },
  {
   "cell_type": "code",
   "execution_count": 1,
   "id": "779f2b11-ba96-46bc-807a-892007154b7c",
   "metadata": {},
   "outputs": [
    {
     "name": "stdout",
     "output_type": "stream",
     "text": [
      "# [goto error]\n",
      "---------------------------------------------------------------------------\n",
      "TypeError                                 Traceback (most recent call last)\n",
      "/var/folders/sr/zs7syfx13zzfn32_m3hpw17c0000gn/T/ipykernel_11804/311428616.py in <cell line: 1>()\n",
      "----> 1 vals[0] = 1\n",
      ":\n",
      "TypeError: 'tuple' object does not support item assignment"
     ]
    }
   ],
   "source": [
    "vals[0] = 1"
   ]
  },
  {
   "cell_type": "markdown",
   "id": "02ad3e6d-2952-4444-9049-65aab18ee0cc",
   "metadata": {},
   "source": [
    "will give us an error.\n",
    "\n"
   ]
  },
  {
   "cell_type": "markdown",
   "id": "c04e02b4-59c1-4f9b-ba1d-d76d81f2910b",
   "metadata": {},
   "source": [
    "#### Using tuples in practice\n",
    "\n"
   ]
  },
  {
   "cell_type": "markdown",
   "id": "b9ab8314-c93e-48f9-9ee0-e346a2f3d52d",
   "metadata": {},
   "source": [
    "You will often see tuples &ldquo;hidden&rdquo; in Python code, as they can be defined and assigned also without the use of the parenthesis. E.g.\n",
    "\n"
   ]
  },
  {
   "cell_type": "code",
   "execution_count": 1,
   "id": "202d4039-fc88-43fa-85c9-e98fdab57bb6",
   "metadata": {},
   "outputs": [],
   "source": [
    "vals = 10, 20, 30"
   ]
  },
  {
   "cell_type": "markdown",
   "id": "abeef297-9027-4ad0-bdf3-7780b460d12c",
   "metadata": {},
   "source": [
    "Is perfectly equivalent to the code above using the `(10, 20, 30)` syntax. Well, why is this ueful? We can do some really concise expressions, for example we can write:\n",
    "\n"
   ]
  },
  {
   "cell_type": "code",
   "execution_count": 1,
   "id": "2f4983f0-11d8-4e5d-997f-f52aede07051",
   "metadata": {},
   "outputs": [],
   "source": [
    "a, b, c = 10, 20, 30"
   ]
  },
  {
   "cell_type": "markdown",
   "id": "2c5340be-72b0-4592-9b68-3d4e0d11f3bb",
   "metadata": {},
   "source": [
    "and this will assign 10, 20, 30 to `a`, `b` and `c` respectively.\n",
    "Or we can swap a and b with simply\n",
    "\n"
   ]
  },
  {
   "cell_type": "code",
   "execution_count": 1,
   "id": "b5f14e86-52c3-43c1-81fc-7c58ddbc842e",
   "metadata": {},
   "outputs": [],
   "source": [
    "a, b = b, a"
   ]
  },
  {
   "cell_type": "markdown",
   "id": "2bc00969-0248-4e34-b3ec-3657c18013ce",
   "metadata": {},
   "source": [
    "Or for example we can iterate more conveniently over a list of tuples\n",
    "\n"
   ]
  },
  {
   "cell_type": "code",
   "execution_count": 1,
   "id": "03202d8e-1912-4b13-b310-ccc29e548a45",
   "metadata": {},
   "outputs": [],
   "source": [
    "for a, b in [(2, 4), (2, 5)]:\n",
    "    print(a + b)"
   ]
  },
  {
   "cell_type": "markdown",
   "id": "e35af85b-1a81-49d0-9f86-96609fe2ceba",
   "metadata": {},
   "source": [
    "We will see another practical application of this later with dictionaries.\n",
    "\n"
   ]
  },
  {
   "cell_type": "markdown",
   "id": "e40323c2-00ab-4609-999d-a2e997bab028",
   "metadata": {},
   "source": [
    "##### A note on assignments and references in Python\n",
    "\n"
   ]
  },
  {
   "cell_type": "markdown",
   "id": "5fabef5e-21aa-40f5-8a61-e0eca7cabd93",
   "metadata": {},
   "source": [
    "Similarly to Javascript, in most cases ewhen we create an object such as a list,\n",
    "assigning it to another variable will not copy the object but just refer to the\n",
    "same object. This is true for lists for example:\n",
    "\n"
   ]
  },
  {
   "cell_type": "code",
   "execution_count": 1,
   "id": "fd2ad253-add8-4278-a26f-f8bb71fe1ad0",
   "metadata": {},
   "outputs": [],
   "source": [
    "list_a = [0, 2, 3]\n",
    "list_b = list_a\n",
    "print(list_b)\n",
    "list_a[2] = 100\n",
    "print(list_b)"
   ]
  },
  {
   "cell_type": "markdown",
   "id": "0f0ee7c6-c7ad-47fb-93ed-817930985969",
   "metadata": {},
   "source": [
    "This is not true for tuples as they are immutable. So assigning a `tuple` will create a copy of it. The same holds for strings.\n",
    "\n"
   ]
  },
  {
   "cell_type": "markdown",
   "id": "79e0a87c-c279-4b30-8e78-8d2826d4021b",
   "metadata": {},
   "source": [
    "### Dictionaries\n",
    "\n"
   ]
  },
  {
   "cell_type": "markdown",
   "id": "790cf2db-3a0b-4d92-a984-022aeb2744d3",
   "metadata": {},
   "source": [
    "Another important Python object is a [dict](https://www.w3schools.com/python/python_dictionaries.asp), a &ldquo;dictionary&rdquo; very similar also in syntax to Javasript objects and it is a collection of key:value pairs.\n",
    "\n"
   ]
  },
  {
   "cell_type": "code",
   "execution_count": 1,
   "id": "d4c1b496-252f-45b5-b8f6-dca25d829758",
   "metadata": {},
   "outputs": [],
   "source": [
    "mydict = {\"name\": \"John\",\n",
    "          \"surname\": \"Doe\",\n",
    "          \"age\": 360}"
   ]
  },
  {
   "cell_type": "markdown",
   "id": "165281b1-0a09-4e3c-a720-5d90db3fa3a0",
   "metadata": {},
   "source": [
    "A bit less conveniently than Javascript we cannot use the `.` to access the\n",
    "elements in a dictionary. We need to explicitly give the key inside square\n",
    "brackets, e.g.\n",
    "\n"
   ]
  },
  {
   "cell_type": "code",
   "execution_count": 1,
   "id": "4f9ff057-c1a5-4c0d-bf9c-643660ebd903",
   "metadata": {},
   "outputs": [],
   "source": [
    "mydict['age']"
   ]
  },
  {
   "cell_type": "markdown",
   "id": "5bb224e2-fd15-46bf-a0ad-d0dc23ee373e",
   "metadata": {},
   "source": [
    "will give us the value of the entry with key &ldquo;age&rdquo;.\n",
    "\n",
    "Dictionaries are also iterable, but with some subtleties. We can iterate over\n",
    "all the key, value pairs with the `.items()` method, which iterates over all the\n",
    "(key, value) pairs in the dictionary. These are given as tuples so we have:\n",
    "\n"
   ]
  },
  {
   "cell_type": "code",
   "execution_count": 1,
   "id": "dafa8be5-20f9-498d-988a-f465ffa94ca2",
   "metadata": {},
   "outputs": [],
   "source": [
    "for key, value in mydict.items():\n",
    "    print(key + ' ' + str(value))"
   ]
  },
  {
   "cell_type": "markdown",
   "id": "b712e27e-9bf7-4222-95d7-f46d4744affc",
   "metadata": {},
   "source": [
    "Otherwise we can just get the keys with `.keys()` or only the values with `.values()`.\n",
    "\n"
   ]
  },
  {
   "cell_type": "markdown",
   "id": "7d4f32a6-d6da-4d42-820c-3d33af4da891",
   "metadata": {},
   "source": [
    "### Sets\n",
    "\n"
   ]
  },
  {
   "cell_type": "markdown",
   "id": "6a1cba23-b712-41c5-a45d-fba8629fc983",
   "metadata": {},
   "source": [
    "Sets are unordered collections of elements that are unique. Say we want to remove duplicates from a list, we can do:\n",
    "\n"
   ]
  },
  {
   "cell_type": "code",
   "execution_count": 1,
   "id": "53dbbd63-123d-4156-91e0-de34ab5fcc1d",
   "metadata": {},
   "outputs": [],
   "source": [
    "l = [1, 2, 2, 3, 5]\n",
    "print(set(l))"
   ]
  },
  {
   "cell_type": "markdown",
   "id": "b15c05e8-19d1-4079-98d6-f428b2846a20",
   "metadata": {},
   "source": [
    "If you need more information on sets refer to [https://www.w3schools.com/python/python_sets.asp](https://www.w3schools.com/python/python_sets.asp).\n",
    "\n"
   ]
  },
  {
   "cell_type": "markdown",
   "id": "ef668b45-d731-401d-86f2-d51488414cd5",
   "metadata": {},
   "source": [
    "## Packages and modules\n",
    "\n"
   ]
  },
  {
   "cell_type": "markdown",
   "id": "ad33a4b9-7fec-476a-8667-dce934ab197a",
   "metadata": {},
   "source": [
    "Apart from being a powerful languages, one of the most attractive features of\n",
    "Python is the availability of a immense variety of &ldquo;packages&rdquo;, extensions that\n",
    "allow to achieve all kinds of functionality. A package is a collection of\n",
    "*modules* that are organized in a directory structure and can be imported into\n",
    "other programs to use their functionality. A module is a single file that\n",
    "contains definitions and statements, and can include functions, classes, and\n",
    "variables.\n",
    "\n",
    "As an example, you can create a file called `my_functions.py` and place it in\n",
    "the same directory as your main Python file or notebook. You can then `import`\n",
    "the module with `import my_functions` and use the functions contained in the\n",
    "`my_functions.py` file with the &ldquo;dot notation&rdquo;, for example `my_functions.add(3,\n",
    "2)`. Python also has a number of built-in modules. For example to access a\n",
    "number of mathematical operations one can use the `math` module:\n",
    "\n"
   ]
  },
  {
   "cell_type": "code",
   "execution_count": 1,
   "id": "ae3dac0c-c7ec-45d5-97a1-7c1258231dc9",
   "metadata": {},
   "outputs": [
    {
     "name": "stdout",
     "output_type": "stream",
     "text": [
      "1.4142135623730951"
     ]
    }
   ],
   "source": [
    "import math\n",
    "math.sqrt(2)"
   ]
  },
  {
   "cell_type": "markdown",
   "id": "0cec814a-1e0a-400f-9ac1-f94a1c38ef33",
   "metadata": {},
   "source": [
    "Packages allow you to further structure code by grouping related modules\n",
    "together. For example, later we will use the `numpy` package and import\n",
    "a specific submodule with\n",
    "\n"
   ]
  },
  {
   "cell_type": "code",
   "execution_count": 1,
   "id": "631d7674-9534-4a41-901d-468afa440dca",
   "metadata": {},
   "outputs": [],
   "source": [
    "import numpy as np"
   ]
  },
  {
   "cell_type": "markdown",
   "id": "c98e45e7-35b9-4535-b9c8-b18b8c56caf0",
   "metadata": {},
   "source": [
    "This tells the interpreter that we want to import the `numpy` module and refer to it by `np`.\n",
    "This construct is often used to abbreviate the name of the module in order to reduce typing.\n",
    "Now if we want to compute the absolute value of a number we could do\n",
    "\n"
   ]
  },
  {
   "cell_type": "code",
   "execution_count": 1,
   "id": "5f196795-d68f-4f3e-9a68-40951af28688",
   "metadata": {},
   "outputs": [
    {
     "name": "stdout",
     "output_type": "stream",
     "text": [
      "10"
     ]
    }
   ],
   "source": [
    "np.abs(-10)"
   ]
  },
  {
   "cell_type": "markdown",
   "id": "b70a269a-53a2-425b-839d-1c61200e8079",
   "metadata": {},
   "source": [
    "Now say we have to write many absolute values and we are even lazier, so we don&rsquo;t want to write `np.` every time. We can do\n",
    "\n"
   ]
  },
  {
   "cell_type": "code",
   "execution_count": 1,
   "id": "72264cd0-89ce-4e61-916d-08f006e87ab2",
   "metadata": {},
   "outputs": [],
   "source": [
    "from numpy import abs"
   ]
  },
  {
   "cell_type": "markdown",
   "id": "fef879c5-fc80-4c9c-a6ef-397430c19a95",
   "metadata": {},
   "source": [
    "And now:\n",
    "\n"
   ]
  },
  {
   "cell_type": "code",
   "execution_count": 1,
   "id": "8fd0a6fd-e093-4498-998a-2191f3a828c3",
   "metadata": {},
   "outputs": [
    {
     "name": "stdout",
     "output_type": "stream",
     "text": [
      "| 3 | 10 | 100 |"
     ]
    }
   ],
   "source": [
    "abs(-3), abs(10), abs(-100)"
   ]
  },
  {
   "cell_type": "markdown",
   "id": "188a35a2-a2fe-487e-9b4d-2786962a5e39",
   "metadata": {},
   "source": [
    "## References\n",
    "\n"
   ]
  },
  {
   "cell_type": "markdown",
   "id": "05fb114f-988b-4e55-9a39-80d0623f6841",
   "metadata": {},
   "source": [
    "\n",
    "<style>.csl-entry{text-indent: -1.5em; margin-left: 1.5em;}</style><div class=\"csl-bib-body\">\n",
    "</div>\n",
    "\n"
   ]
  }
 ],
 "metadata": {
  "kernelspec": {
   "display_name": "py5",
   "language": "python",
   "name": "python3"
  },
  "language_info": {
   "codemirror_mode": {
    "name": "ipython",
    "version": 3
   },
   "file_extension": ".py",
   "mimetype": "text/x-python",
   "name": "python",
   "nbconvert_exporter": "python",
   "pygments_lexer": "ipython3",
   "version": "3.10.14"
  },
  "org": null
 },
 "nbformat": 4,
 "nbformat_minor": 5
}
