{
 "cells": [
  {
   "cell_type": "markdown",
   "id": "6db5212b",
   "metadata": {},
   "source": [
    "# Axidraw setup notes\n",
    "The easiest method of working with AxiDraw is to use the vector drawing program [InkScape](https://inkscape.org) and to install the [AxiDraw Inkscape\n",
    "plugin](https://wiki.evilmadscientist.com/Axidraw_Software_Installation) to send\n",
    "it SVG drawings. This provides a handy user interface for importing vector graphics and drawing them with the plotter.\n",
    "\n",
    "# How to plot\n",
    "## Setup\n",
    "- Make sure you installed the software above\n",
    "- **While the plotter is off** drag the pen axes so the pen is as far as possible to the left (while facing the pen) and as far as possible towards the main body of the machine.\n",
    "- Connect the plotter to the computer, making sure you manually set the plotter to its \"home\" position (in the previous step)\n",
    "- Place the paper so it's top left corner is under the tip of the pen and one side is parallel to the machine.\n",
    "\n",
    "## Prepare to plot\n",
    "- Open inkscape and open the file you want to print\n",
    "- Set the document size to the one corresponding to the paper size. E.g. for A4 paper, set the document size to A4 (landscape). \n",
    "  - The document size is accessed from \"File\" menu -> Document properties\n",
    "  - Resize the graphics to fit the page as you like, you might want to rotate everything as well if your graphics are taller than wide (so they fit in the landscape format)\n",
    "  - Note that by resizing and keeping the \"CTRL\" key pressed, InkScape will keep the proportions.\n",
    "- Open the AxiDraw control extension. You can find it in the \"Extensions\" menu -> \"AxiDraw Control...\"\n",
    "- Test if the AxiDraw is properly connected:\n",
    "  - Remove the pen, select the \"Setup\" tab and select the \"Cycle pen down then up\" option and press \"Apply\": The plotter pen holder should go down then up.\n",
    "- Place the pen back into the pen holder, now so the tip of the pen is approximately 3mm way from the paper (no need to be precise).\n",
    "\n",
    "## Plotting\n",
    "- Open the AxiDraw control extension. You can find it in the \"Extensions\" menu -> \"AxiDraw Control...\"\n",
    "- Navigate to the \"Options\" tab and then to the \"Speed\" subtab. Set the Writing/Drawing Speed to something like 70%.  Unless you really require slow drawing due to some particular medium, this will avoid the plotting process lasting for ever:)\n",
    "- Navigate to the \"Plot\" tab and press \"Apply\"\n",
    "\n",
    "## Hidden line removal\n",
    "Now the AxiDraw software supports hidden line removal. This means that you can draw multiple shapes with occlusions as long as these are filled in the document. See [this link](https://www.evilmadscientist.com/2023/hidden-paths-axidraw/) for details.\n"
   ]
  }
 ],
 "metadata": {
  "language_info": {
   "name": "python"
  }
 },
 "nbformat": 4,
 "nbformat_minor": 5
}
