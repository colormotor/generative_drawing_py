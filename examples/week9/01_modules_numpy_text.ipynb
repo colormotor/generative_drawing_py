{
 "cells": [
  {
   "cell_type": "markdown",
   "id": "416bbd5c-98cc-403a-9b4c-5041e8daf855",
   "metadata": {},
   "source": [
    "Week 7\n",
    "======\n",
    "\n"
   ]
  },
  {
   "cell_type": "markdown",
   "id": "151652aa-3052-4dca-97f2-ff632502f97b",
   "metadata": {},
   "source": [
    "This week&rsquo;s features require and update of py5canvas with an additional step.\n",
    "Because we will be using fonts, we will need to install a new library called &ldquo;Freetype&rdquo;. Proceed with the following steps:\n",
    "\n",
    "    mamba activate py5\n",
    "    mamba install freetype\n",
    "    pip install --upgrade py5canvas\n",
    "\n",
    "Then as usual get started in the notebook with:\n",
    "\n"
   ]
  },
  {
   "cell_type": "code",
   "execution_count": 1,
   "id": "9c010e29-d341-4b9e-b0ca-9f57a62151ef",
   "metadata": {},
   "outputs": [],
   "source": [
    "from py5canvas import *"
   ]
  },
  {
   "cell_type": "markdown",
   "id": "fd81df47-1e12-4e11-97ea-34817d9c23ce",
   "metadata": {},
   "source": [
    "## External modules and packages\n",
    "\n"
   ]
  },
  {
   "cell_type": "markdown",
   "id": "9637791a-e03f-4807-9ed3-91f7c516cb59",
   "metadata": {},
   "source": [
    "Before we start, it is useful to get into one aspect of Python that will become\n",
    "very important if you keep on using it outside of this class, that is external\n",
    "**modules** and **packages**. While Python is a powerful language on its own, the real power of\n",
    "Python is the community surrounding it and the huge amount of available extensions to the language.\n",
    "Indeed we have been using one every class: that is py5canvas, which\n",
    "in turn depends on many other extensions available in the Python echosystem.\n",
    "\n",
    "Python extension libraries are commonly organized as &ldquo;modules&rdquo;, external Python\n",
    "files that can be imported in your code. Multiple modules are often organized in\n",
    "a directory-like structure, in what is referred to as a &ldquo;package&rdquo; or &ldquo;library&rdquo;. Generally, the import syntax is the same for packages or modules, so this distinction is not really important.\n",
    "\n"
   ]
  },
  {
   "cell_type": "markdown",
   "id": "f1a7eab2-0995-4639-8b57-0445ebf422d2",
   "metadata": {},
   "source": [
    "### Modules\n",
    "\n"
   ]
  },
  {
   "cell_type": "markdown",
   "id": "4d5c0958-5093-4a39-ad15-f96d2977b59e",
   "metadata": {},
   "source": [
    "A **module** is a single Python file (e.g. &ldquo;.py&rdquo; files) containing functions, variables or classes that can be re-used inside your code.\n",
    "You import a module by using the `import` statement. You have used one of the many flavours of the import statement when setting up a Py5canvas notebook or script.\n",
    "\n",
    "In it&rsquo;s simplest form, a module can be a Python file located in the same directory as your notebook or script.\n",
    "You could create for example a Python file called &ldquo;math<sub>utils.py</sub>&rdquo; and save it in the same location as this notebook. Then you can add the following to the &ldquo;math<sub>utils.py</sub>&rdquo; file:\n",
    "\n",
    "    def add(a, b):\n",
    "        return a + b\n",
    "    \n",
    "    def subtract(a, b):\n",
    "        return a - b\n",
    "\n",
    "Once you saved the file you can import the module (the Python file) and use the functions defined inside of it by using the syntax\n",
    "\n"
   ]
  },
  {
   "cell_type": "code",
   "execution_count": 2,
   "id": "d480457e-cf47-40a5-a392-34325b01bd86",
   "metadata": {},
   "outputs": [
    {
     "data": {
      "text/plain": [
       "30"
      ]
     },
     "execution_count": 2,
     "metadata": {},
     "output_type": "execute_result"
    }
   ],
   "source": [
    "import math_utils\n",
    "math_utils.add(10, 20)"
   ]
  },
  {
   "cell_type": "markdown",
   "id": "f766b390-22c8-483c-ad91-a2016ead850b",
   "metadata": {},
   "source": [
    "Notice that we:\n",
    "\n",
    "-   Imported the functionalities defined in the &ldquo;math<sub>utils.py</sub>&rdquo; files by omitting the &ldquo;.py&rdquo; extension and using `import math_utils`.\n",
    "-   We access these functionalities by adding writing the module name, followed by a &ldquo;dot&rdquo;, e.g. `math_utils.subtract`.\n",
    "\n",
    "> **NOTE**: Once you imported a module, modifications to the module (e.g. the math_utils.py file, or any other module) will not be reflected in your code, unless you restart the notebook or restart a sketch. It is possible to reload the module with additional syntax (using the [importlib](https://docs.python.org/3/library/importlib.html) module) but we won&rsquo;t cover this.\n",
    "\n"
   ]
  },
  {
   "cell_type": "markdown",
   "id": "823ea733-8d45-433b-b063-e07bffe56f51",
   "metadata": {},
   "source": [
    "#### Renaming modules\n",
    "\n"
   ]
  },
  {
   "cell_type": "markdown",
   "id": "64c4efcb-a7ea-4fe1-81e6-8b6f8e0ce1e8",
   "metadata": {},
   "source": [
    "Now, what if we are lazy and want to use a shorter name (e.g `mu` instead of `math_utils`) to refer to these functionalities?\n",
    "We can use a commonly used syntax:\n",
    "\n"
   ]
  },
  {
   "cell_type": "code",
   "execution_count": 3,
   "id": "de1a918b-1643-4dfd-ba7d-fc80ec2d39d4",
   "metadata": {},
   "outputs": [],
   "source": [
    "import math_utils as mu"
   ]
  },
  {
   "cell_type": "markdown",
   "id": "1e0a7d4a-90de-4427-8213-0497c3a70a8b",
   "metadata": {},
   "source": [
    "As the statement says we are importing the module `math_utils` (the file &ldquo;math<sub>utils.py</sub>&rdquo;) and referring to it as `mu`. So now we can do:\n",
    "\n"
   ]
  },
  {
   "cell_type": "code",
   "execution_count": 4,
   "id": "241b7f68-23b8-43dc-bc9c-702804d15760",
   "metadata": {},
   "outputs": [
    {
     "data": {
      "text/plain": [
       "2"
      ]
     },
     "execution_count": 4,
     "metadata": {},
     "output_type": "execute_result"
    }
   ],
   "source": [
    "mu.subtract(5, 3)"
   ]
  },
  {
   "cell_type": "markdown",
   "id": "618748b2-2eac-4cae-a62c-96ba8f611e00",
   "metadata": {},
   "source": [
    "We will be using this syntax to import a **very useful external library** for numerical operations called [NumPy](https://numpy.org), which underlies alot of the functionalities we have used with Py5Canvas so far (e.g. `linspace`). The typical way to import NumPy is indeed\n",
    "\n"
   ]
  },
  {
   "cell_type": "code",
   "execution_count": 5,
   "id": "69475bbb-0be8-4978-af28-add29ce617dd",
   "metadata": {},
   "outputs": [],
   "source": [
    "import numpy as np"
   ]
  },
  {
   "cell_type": "markdown",
   "id": "7b6f5127-d771-4b6f-9de1-33acc80d0cd2",
   "metadata": {},
   "source": [
    "In English: &ldquo;import the `numpy` package and (for brevity) refer to it with the\n",
    "identifier `np`&rdquo;. The term `np` is usually referred to as a &ldquo;namespace&rdquo; and elements of the namespace are accessed with the dot notation.\n",
    "\n"
   ]
  },
  {
   "cell_type": "markdown",
   "id": "06202027-8513-4c2e-bfec-84d3c0da72b6",
   "metadata": {},
   "source": [
    "#### Importing components from modules\n",
    "\n"
   ]
  },
  {
   "cell_type": "markdown",
   "id": "914109b7-3621-47f8-a306-fc98d3bb88db",
   "metadata": {},
   "source": [
    "The NumPy library as well as the built in Python [math module](https://docs.python.org/3/library/math.html) both contain [many useful math operations and constants](https://numpy.org/doc/2.0/reference/routines.math.html). Say we want access the constant $\\pi$ (greek PI) as it is defined in NumPy. After runnig the import statement above, it will be available as:\n",
    "\n"
   ]
  },
  {
   "cell_type": "code",
   "execution_count": 6,
   "id": "382bae91-fd9c-4d6b-91b8-bd440e2ec2b2",
   "metadata": {},
   "outputs": [
    {
     "name": "stdout",
     "output_type": "stream",
     "text": [
      "3.141592653589793\n"
     ]
    }
   ],
   "source": [
    "print(np.pi)"
   ]
  },
  {
   "cell_type": "markdown",
   "id": "26881ff4-2419-4646-9459-9b0f20c8fbc9",
   "metadata": {},
   "source": [
    "But we can also import it directly from the module so it is available withing our code. The syntax is:\n",
    "\n"
   ]
  },
  {
   "cell_type": "code",
   "execution_count": 7,
   "id": "9ac24b03-e40d-4563-ade6-40cf4a2175a6",
   "metadata": {},
   "outputs": [
    {
     "name": "stdout",
     "output_type": "stream",
     "text": [
      "3.141592653589793\n"
     ]
    }
   ],
   "source": [
    "from numpy import pi\n",
    "\n",
    "print(pi)"
   ]
  },
  {
   "cell_type": "markdown",
   "id": "147734ff-81d5-4592-95e5-d67138950283",
   "metadata": {},
   "source": [
    "You can import multiple variables or functions using commas, for example:\n",
    "\n"
   ]
  },
  {
   "cell_type": "code",
   "execution_count": 8,
   "id": "3e23b250-0d83-485b-95a1-ff5260ea2344",
   "metadata": {},
   "outputs": [],
   "source": [
    "from numpy import pi, floor"
   ]
  },
  {
   "cell_type": "markdown",
   "id": "0700479f-e9ff-43c5-b663-c799c1520db2",
   "metadata": {},
   "source": [
    "imports the variable `pi` and the function `floor` (that returns the nearest integer less than the number provided as an argument).\n",
    "\n",
    "So finally we can see how the Py5canvas import statement works. While not generally recommended, we can import **ALL** the contents of a module/library replacing the element we want to import with an asterisk `*`. In programming and in the command line, the asterisk is commonly used to indicate &ldquo;ALL&rdquo;. So you can read\n",
    "\n"
   ]
  },
  {
   "cell_type": "code",
   "execution_count": 9,
   "id": "5ba40af9-5a89-43b5-9a69-cb58cc4de9fc",
   "metadata": {},
   "outputs": [],
   "source": [
    "from py5canvas import *"
   ]
  },
  {
   "cell_type": "markdown",
   "id": "34d472f4-3ab6-4408-9553-77f95aa47769",
   "metadata": {},
   "source": [
    "As &ldquo;From Py5canvas import everything&rdquo;.\n",
    "\n",
    "Note that this is usually not recommended. For the case of Py5canvas, it has the advantage to allow writing code with a simplified syntax not requiring dots. This is a trick used in other languages to achieve a similar effect, for instance in Java with Processing and JavaScript with P5js.\n",
    "\n"
   ]
  },
  {
   "cell_type": "markdown",
   "id": "8812973a-317f-4d58-a1ef-e4ca1c3fc28c",
   "metadata": {},
   "source": [
    "#### External libraries\n",
    "\n"
   ]
  },
  {
   "cell_type": "markdown",
   "id": "0aae3ce9-30c2-46f6-8ffd-2b29771a1520",
   "metadata": {},
   "source": [
    "With this info in hand, you now should be able to use a number of external libraries. Some are already packaged with Py5canvas, for instance:\n",
    "\n",
    "-   [NumPy](https://numpy.org) (`numpy` module) for quickly manipulating numbers, vectors and matrices (grids of numbers) etc..\n",
    "-   [SciPy](https://scipy.org) (`scipy` module) for more higher level numerical operations (based on NumPy). Gives access to different filtering and optimization algorithms.\n",
    "-   [OpenCV](https://opencv.org/get-started/) (`cv2` module) for advanced image manipulation and image processing (also based on NumPy)\n",
    "-   [Pillow](https://pillow.readthedocs.io/en/stable/index.html) (`PIL` module) for high level image reading/loading\n",
    "-   [Matplotlib](https://matplotlib.org) (`matplotlib` module) for generating &ldquo;scientific looking&rdquo; plots and data visualization\n",
    "\n",
    "There are tons of other libraries you can access and explore, for example [PyTorch](https://pytorch.org) is a widely used machine learning library (with a syntax somewhat similar to NumPy) that you will encounter if you take the machine learning module in the next term.\n",
    "\n"
   ]
  },
  {
   "cell_type": "markdown",
   "id": "00a5f209-fb5e-4b8b-b676-df2319f081d7",
   "metadata": {},
   "source": [
    "##### Guidelines\n",
    "\n"
   ]
  },
  {
   "cell_type": "markdown",
   "id": "16ee2e75-44e7-4f6a-b8c9-6bc7690b4f99",
   "metadata": {},
   "source": [
    "As mentioned at the beginning of the module **installing new libraries can be tricky** because two or more libraries may depend on different versions of another library. This is why we use a &ldquo;package manger&rdquo; as conda/mamba or pip. Installing a library without checking for conflicts can corrupt your current environment and require you to spend even hours re-installing everything!\n",
    "\n",
    "To keep things (relatively) safe keep in mind these guidelines:\n",
    "\n",
    "-   Make sure you install libraries with a custom environment active (you don&rsquo;t see `(base)` in your command line prompt).\n",
    "-   Always search if a library is available on Conda, within the &ldquo;conda-forge&rdquo; channel (the most thoroughly updated). So say you want to install a library called &ldquo;SciPy&rdquo; (it should be installed already).\n",
    "    -   The first thing you can do is Google: `\"scipy + condaforge\"`.\n",
    "        One of the first hits will be [this page](https://anaconda.org/conda-forge/scipy). You want use the first install command containing &ldquo;conda-forge&rdquo;, i.e. `conda install conda-forge::scipy`. But you can **replace `conda` with `mamba`** with the only difference being that Mamba is much faster than Conda.\n",
    "-   If you cannot find the library within &ldquo;conda-forge&rdquo;, you may use &ldquo;pip&rdquo; instead, but **be warned:**. Pip will install things without checking for conflicts and might totally break your environment! Usually a good sign that the library is safe is that the description states it is &ldquo;pure Python&rdquo;.\n",
    "\n"
   ]
  },
  {
   "cell_type": "markdown",
   "id": "54907275-b641-4d91-a9c9-989fe3864f95",
   "metadata": {},
   "source": [
    "### NumPy and polygons\n",
    "\n"
   ]
  },
  {
   "cell_type": "markdown",
   "id": "5dc3412c-0d27-44a9-8010-ae827dd150ce",
   "metadata": {},
   "source": [
    "As previously mentioned, NumPy is a highly optimized numerical computation library that enables operating on collections of numbers at the same time. We have been using numpy in our code without mentioning it directly. For instance the functions `linspace` and `arange` are simply made accessible to you by Py5canvas by doing something like this internally\n",
    "\n"
   ]
  },
  {
   "cell_type": "code",
   "execution_count": 10,
   "id": "aa9a6a04-f606-4a4f-a8e2-1c7ce33534f0",
   "metadata": {},
   "outputs": [],
   "source": [
    "from numpy import linspace, arange"
   ]
  },
  {
   "cell_type": "markdown",
   "id": "1fed1efc-7837-4b50-86ce-5ca8a1268b5c",
   "metadata": {},
   "source": [
    "And then when you import all (`*`) of py5canvas these are made available to you. Furthermore, when we used vectors we used the syntax `Vector(x, y)` but if we let the code cell output the value of the vector we get\n",
    "\n"
   ]
  },
  {
   "cell_type": "code",
   "execution_count": 11,
   "id": "51749631-edd5-4b06-9f98-ba8d6137eda1",
   "metadata": {},
   "outputs": [
    {
     "data": {
      "text/plain": [
       "array([10., 20.])"
      ]
     },
     "execution_count": 11,
     "metadata": {},
     "output_type": "execute_result"
    }
   ],
   "source": [
    "v = Vector(10, 20)\n",
    "v"
   ]
  },
  {
   "cell_type": "markdown",
   "id": "3c912ac7-e001-444e-a134-79aca76c9fe2",
   "metadata": {},
   "source": [
    "That is because internally, `Vector` simply creates a NumPy &ldquo;array&rdquo;, which is like a list of numbers that allow for mathematical operations like multiplication and addition.\n",
    "The standard way to use NumPy is to import it as `np` (probably you found cases where it slipped in the code, because it eventually becomes like a habit to use). So\n",
    "\n"
   ]
  },
  {
   "cell_type": "code",
   "execution_count": 12,
   "id": "f46004fb-ae70-491f-82ab-09eccbf74454",
   "metadata": {},
   "outputs": [],
   "source": [
    "import numpy as np"
   ]
  },
  {
   "cell_type": "markdown",
   "id": "13b81ac1-5d46-410d-8e3e-3f88c55c3f33",
   "metadata": {},
   "source": [
    "If we display the result of the `np.linspace` function w can see\n",
    "\n"
   ]
  },
  {
   "cell_type": "code",
   "execution_count": 13,
   "id": "ebb2f14e-460a-4f0a-827f-8d3f43b6c69a",
   "metadata": {},
   "outputs": [
    {
     "data": {
      "text/plain": [
       "array([0.  , 0.25, 0.5 , 0.75, 1.  ])"
      ]
     },
     "execution_count": 13,
     "metadata": {},
     "output_type": "execute_result"
    }
   ],
   "source": [
    "x = linspace(0, 1, 5)\n",
    "x"
   ]
  },
  {
   "cell_type": "markdown",
   "id": "6d008934-7bea-453c-9f78-0406cd0cadb8",
   "metadata": {},
   "source": [
    "that it is also an array, similarly to the vector case. Indeed we can think of the result of linspace as a vector with a dimension higher than 2, which allows you to do cool operations very quickly and eventually avoid long loops, which are notoriously slow in Python.\n",
    "\n",
    "For example we can do stuff like\n",
    "\n"
   ]
  },
  {
   "cell_type": "code",
   "execution_count": 14,
   "id": "bff53300-9515-480c-bcef-24b1451ef835",
   "metadata": {},
   "outputs": [
    {
     "name": "stdout",
     "output_type": "stream",
     "text": [
      "Adding a number to the array: [10.   10.25 10.5  10.75 11.  ]\n",
      "Multiplying the array by a number: [ 0.   2.5  5.   7.5 10. ]\n"
     ]
    }
   ],
   "source": [
    "print('Adding a number to the array:', x+10)\n",
    "print('Multiplying the array by a number:', x*10)"
   ]
  },
  {
   "cell_type": "markdown",
   "id": "13abba44-4074-410b-bcfb-c570d4018ea1",
   "metadata": {},
   "source": [
    "(Note that we used commas to separate arguments in `print`, which results in a single string of text concatenating all the arguments).\n",
    "\n",
    "To access the number of elements of an array we can use the `len` Python built-in function, the array property called `size` or another array property called `shape`. The latter will become necessary once we tackle multidimensional arrays.\n",
    "\n",
    "So\n",
    "\n"
   ]
  },
  {
   "cell_type": "code",
   "execution_count": 15,
   "id": "3bbebf9e-96ff-48af-b5d9-1c726c39dd6e",
   "metadata": {},
   "outputs": [
    {
     "data": {
      "text/plain": [
       "5"
      ]
     },
     "execution_count": 15,
     "metadata": {},
     "output_type": "execute_result"
    }
   ],
   "source": [
    "len(x)"
   ]
  },
  {
   "cell_type": "markdown",
   "id": "40323528-ef18-4b45-ac26-92d3ccc8ff79",
   "metadata": {},
   "source": [
    "or\n",
    "\n"
   ]
  },
  {
   "cell_type": "code",
   "execution_count": 16,
   "id": "098daa7c-f047-4672-8e02-e3fbf3ed48de",
   "metadata": {},
   "outputs": [
    {
     "data": {
      "text/plain": [
       "5"
      ]
     },
     "execution_count": 16,
     "metadata": {},
     "output_type": "execute_result"
    }
   ],
   "source": [
    "x.size"
   ]
  },
  {
   "cell_type": "markdown",
   "id": "aa042aa9-f562-4276-b6c6-1c0298452f69",
   "metadata": {},
   "source": [
    "or\n",
    "\n"
   ]
  },
  {
   "cell_type": "code",
   "execution_count": 17,
   "id": "214defb4-edd9-4647-8503-575143f7d076",
   "metadata": {},
   "outputs": [
    {
     "data": {
      "text/plain": [
       "(5,)"
      ]
     },
     "execution_count": 17,
     "metadata": {},
     "output_type": "execute_result"
    }
   ],
   "source": [
    "x.shape"
   ]
  },
  {
   "cell_type": "markdown",
   "id": "07e0eca3-216a-4b1f-801e-740d484018b8",
   "metadata": {},
   "source": [
    "We can still loop over the elements of an array with the usual `for` loop syntax, so for example:\n",
    "\n"
   ]
  },
  {
   "cell_type": "code",
   "execution_count": 18,
   "id": "77a8b3cb-5451-4ed2-93c7-fbfaa1a2e44e",
   "metadata": {},
   "outputs": [
    {
     "name": "stdout",
     "output_type": "stream",
     "text": [
      "0.0\n",
      "0.25\n",
      "0.5\n",
      "0.75\n",
      "1.0\n"
     ]
    }
   ],
   "source": [
    "for value in x:\n",
    "    print(value)"
   ]
  },
  {
   "cell_type": "markdown",
   "id": "2ede4989-221d-4227-9352-cc375ea9548b",
   "metadata": {},
   "source": [
    "If you get more confident with NumPy, you will eventually use loops less and less, leading to much more efficient code. The process of converting loops into &ldquo;group operations&rdquo; on arrays is commonly referred to as [&ldquo;vectorization&rdquo;](https://www.programiz.com/python-programming/numpy/vectorization). It can be tricky to master, but is eventually needed if you wish to work at a lower level on topics such as machine learning.\n",
    "\n"
   ]
  },
  {
   "cell_type": "markdown",
   "id": "4ccb2cbe-51ab-4ca8-95c8-ad01791ecb15",
   "metadata": {},
   "source": [
    "#### Using arrays with Py5Canvas and `polyline`\n",
    "\n"
   ]
  },
  {
   "cell_type": "markdown",
   "id": "d62c2d8f-1699-4d81-a276-aa4ef2b0b4f0",
   "metadata": {},
   "source": [
    "Internally to Py5canvas, mathematical functions such as `sin` and `cos` are simply exposing the NumPy counterparts `np.sin` and `np.cos`. This means that these functions can operate also on arrays as opposed to only single numbers. This means we can create a circle without needing to use loops at all.\n",
    "\n",
    "Let&rsquo;s generate the x and y coordinates of an approximation to a circle by using `np.linspace` to generate a sequence of numbers between `0` and `np.pi*2` (or equivalently `PI*2`):\n",
    "\n"
   ]
  },
  {
   "cell_type": "code",
   "execution_count": 19,
   "id": "690dae9d-bfe7-48a4-8a35-9ed8a69b794e",
   "metadata": {},
   "outputs": [],
   "source": [
    "radius = 100\n",
    "t = np.linspace(0, np.pi*2, 20)\n",
    "x = np.cos(t)*radius\n",
    "y = np.sin(t)*radius"
   ]
  },
  {
   "cell_type": "markdown",
   "id": "2647f46f-c947-456f-be9c-36398804e902",
   "metadata": {},
   "source": [
    "To visualize the circle we can use a new function `polyline`, which accepts a list of x coordinates and a list of y coordiantes as an input:\n",
    "\n"
   ]
  },
  {
   "cell_type": "code",
   "execution_count": 20,
   "id": "df8ccade-2eb3-4e83-ae69-33237c3bab00",
   "metadata": {},
   "outputs": [
    {
     "data": {
      "image/png": "[encoded data removed]",
      "text/plain": [
       "<PIL.Image.Image image mode=RGB size=300x300>"
      ]
     },
     "metadata": {},
     "output_type": "display_data"
    }
   ],
   "source": [
    "create_canvas(300, 300)\n",
    "translate(center)\n",
    "polyline(x, y, close=True)\n",
    "show()"
   ]
  },
  {
   "cell_type": "markdown",
   "id": "3c48bdc0-98ba-410c-9595-1edf8654ff04",
   "metadata": {},
   "source": [
    "> **NOTE**: here we use yet another construct we have not seen so far, a &ldquo;named&rdquo; argument. Python allows you to specify arguments with their name followed by an equal sign and the desired value. This can improve legibility, or it may be necessary as in this case, since the `polyline` function accepts different combinations of initial arguments.We can use the `curve` function to connect the points with a smooth curve:\n",
    "\n"
   ]
  },
  {
   "cell_type": "code",
   "execution_count": 21,
   "id": "109e0dd1-41b5-4a40-9cdd-23f3120981d2",
   "metadata": {},
   "outputs": [
    {
     "data": {
      "image/png": "[encoded data removed]",
      "text/plain": [
       "<PIL.Image.Image image mode=RGB size=300x300>"
      ]
     },
     "metadata": {},
     "output_type": "display_data"
    }
   ],
   "source": [
    "create_canvas(300, 300)\n",
    "translate(center)\n",
    "curve(x, y, close=True)\n",
    "show()"
   ]
  },
  {
   "cell_type": "markdown",
   "id": "89ef2765-e6a3-44a3-b45b-5c453ce0ab51",
   "metadata": {},
   "source": [
    "But as we have seen before this creates a small &ldquo;kink&rdquo;. That is because `linspace` gives a sequence of numbers between `0` and `np.pi*2`, with the beginning and end being equivalent angles. We can avoid the kink by adding a final `False` argument as we have seen before (`np.linspace(0, np.pi*2, 30, False)`) or by using an operation on arrays (or lists and tuples) called &ldquo;slicing&rdquo;. We can rewrite all the code together and do\n",
    "\n"
   ]
  },
  {
   "cell_type": "code",
   "execution_count": 22,
   "id": "358efeb6-ee51-483b-b592-54e43a4d6936",
   "metadata": {},
   "outputs": [
    {
     "data": {
      "image/png": "[encoded data removed]",
      "text/plain": [
       "<PIL.Image.Image image mode=RGB size=300x300>"
      ]
     },
     "metadata": {},
     "output_type": "display_data"
    }
   ],
   "source": [
    "create_canvas(300, 300)\n",
    "translate(center)\n",
    "\n",
    "radius = 100\n",
    "t = np.linspace(0, np.pi*2, 20)\n",
    "x = np.cos(t[:-1])*radius\n",
    "y = np.sin(t[:-1])*radius\n",
    "curve(x, y, close=True)\n",
    "\n",
    "show()"
   ]
  },
  {
   "cell_type": "markdown",
   "id": "cb6e835b-345b-464e-9157-d0ed98128c16",
   "metadata": {},
   "source": [
    "The `[:-1]` syntax gives us all elements of `t` up to (and without) the last element (the element with index `-1`).\n",
    "\n",
    "While this syntax may take some time to get used to, it makes the code more readable and emphasizes how the circle is a curve, where the x and y coordinates are functions of the same parameter (`t` in this case).\n",
    "\n"
   ]
  },
  {
   "cell_type": "markdown",
   "id": "bbfc56ab-d201-45b8-a10b-0243ccd6f167",
   "metadata": {},
   "source": [
    "##### Randomness in NumPy (and Py5canvas)\n",
    "\n"
   ]
  },
  {
   "cell_type": "markdown",
   "id": "f0ee17ef-5a5f-4b8e-bfae-a77e51afe781",
   "metadata": {},
   "source": [
    "Now let&rsquo;s say we want to randomly offset the X and Y coordinates (as we have done before in a loop). It turns out that also the `random` and `random_uniform` functions (they do the same thing) in Py5canvas just hide another NumPy function under the hood: `np.random.uniform`. The term uniform means that we have equal probability of picking any number in the specified range (or between 0 and 1 if not range is specified).\n",
    "\n",
    "Numpy has tons of powerful random number generation functions within a **submodule** called [`random`](https://numpy.org/doc/stable/reference/random/index.html). A submodule is just a module within a module (alike a directory within the package). The function can generate a single number (as we have done so far) or it optionally accepts a named `size` argument that defines how many random number we want.\n",
    "\n",
    "To generate say 3 random numbers between 0 and 100 we could write\n",
    "\n"
   ]
  },
  {
   "cell_type": "code",
   "execution_count": 23,
   "id": "3705e48a-12e7-4c6a-8c63-1a77ccc60eae",
   "metadata": {},
   "outputs": [
    {
     "data": {
      "text/plain": [
       "array([74.86578778, 58.71855294, 64.75180536])"
      ]
     },
     "execution_count": 23,
     "metadata": {},
     "output_type": "execute_result"
    }
   ],
   "source": [
    "np.random.uniform(0, 100, size=3)"
   ]
  },
  {
   "cell_type": "markdown",
   "id": "7c8134f6-754d-43ab-937e-c3550a02fa74",
   "metadata": {},
   "source": [
    "Or equivalently\n",
    "\n"
   ]
  },
  {
   "cell_type": "code",
   "execution_count": 24,
   "id": "6ff11fdb-bcb0-4ee9-862e-92cbadefc796",
   "metadata": {},
   "outputs": [
    {
     "data": {
      "text/plain": [
       "array([13.35296237, 82.24278198, 15.67097116])"
      ]
     },
     "execution_count": 24,
     "metadata": {},
     "output_type": "execute_result"
    }
   ],
   "source": [
    "random_uniform(0, 100, size=3)"
   ]
  },
  {
   "cell_type": "markdown",
   "id": "bf2e979b-99ba-4536-a3ee-a58269b8f68a",
   "metadata": {},
   "source": [
    "So if we want to randomly perturb all the x coordinates (without a loop) we can add a sequence of random numbers to the x coordinates, as long as the two sequences have the same length, e.g.:\n",
    "\n"
   ]
  },
  {
   "cell_type": "code",
   "execution_count": 25,
   "id": "49405ea9-1aa2-4940-9c15-0c732d3d9ca5",
   "metadata": {},
   "outputs": [
    {
     "data": {
      "text/plain": [
       "array([  95.16793437,   93.6395174 ,   82.87423767,   52.66444807,\n",
       "         25.69879637,   -3.20015841,  -44.53328076,  -73.1894907 ,\n",
       "        -77.95876291,  -95.48321951, -103.22180497,  -78.75362697,\n",
       "        -76.35650327,  -40.9955043 ,  -14.00006636,   15.31654082,\n",
       "         64.38473651,   82.23006085,  101.00106996])"
      ]
     },
     "execution_count": 25,
     "metadata": {},
     "output_type": "execute_result"
    }
   ],
   "source": [
    "x + random_uniform(-10, 10, size=x.shape)"
   ]
  },
  {
   "cell_type": "markdown",
   "id": "bd840b31-4f49-43d4-8d14-b6c0abce9933",
   "metadata": {},
   "source": [
    "You can use `x.size` as well, but it is good habit to use `shape` in sight of the using multidimensional arrays.\n",
    "\n",
    "So our code can become:\n",
    "\n"
   ]
  },
  {
   "cell_type": "code",
   "execution_count": 26,
   "id": "ef6bf34a-0a06-480b-8063-687a8cb78415",
   "metadata": {},
   "outputs": [
    {
     "data": {
      "image/png": "[encoded data removed]",
      "text/plain": [
       "<PIL.Image.Image image mode=RGB size=300x300>"
      ]
     },
     "metadata": {},
     "output_type": "display_data"
    }
   ],
   "source": [
    "create_canvas(300, 300)\n",
    "translate(center)\n",
    "\n",
    "radius = 100\n",
    "t = np.linspace(0, np.pi*2, 20)\n",
    "x = np.cos(t[:-1])*radius\n",
    "y = np.sin(t[:-1])*radius\n",
    "x = x + random(-10, 10, size=x.shape)\n",
    "y = y + random(-10, 10, size=y.shape)\n",
    "curve(x, y, close=True)\n",
    "show()"
   ]
  },
  {
   "cell_type": "markdown",
   "id": "73aa4c57-15bb-4eb0-8aef-db9430c20b2f",
   "metadata": {},
   "source": [
    "##### 2D arrays\n",
    "\n"
   ]
  },
  {
   "cell_type": "markdown",
   "id": "4c7b9514-93c4-4821-b762-8190e0758813",
   "metadata": {},
   "source": [
    "In the examples above we have used &ldquo;one-dimensional&rdquo; arrays, which are similar to lists of numbers that enable mathematical operations. When dealing with curves and polygons, it can be for example useful to group the x and y coordinates into larger 2d arrays.\n",
    "\n",
    "Let&rsquo;s look at a 2d array, using another numpy function that simply generates an array containing ones:\n",
    "\n"
   ]
  },
  {
   "cell_type": "code",
   "execution_count": 27,
   "id": "6534e8df-c6bb-4c75-93dc-df5c81e0f6ae",
   "metadata": {},
   "outputs": [
    {
     "data": {
      "text/plain": [
       "array([[1., 1.],\n",
       "       [1., 1.],\n",
       "       [1., 1.],\n",
       "       [1., 1.],\n",
       "       [1., 1.]])"
      ]
     },
     "execution_count": 27,
     "metadata": {},
     "output_type": "execute_result"
    }
   ],
   "source": [
    "z = np.ones((5,2))\n",
    "z"
   ]
  },
  {
   "cell_type": "markdown",
   "id": "b44b236c-baac-41f7-903c-b6a5b2668084",
   "metadata": {},
   "source": [
    "In this syntax, we specify with a &ldquo;tuple&rdquo; (the parentheses) the number of rows, followed by the number of rows. If we query the `shape` property, we see that it contains this information:\n",
    "\n"
   ]
  },
  {
   "cell_type": "code",
   "execution_count": 28,
   "id": "04c30732-4438-44b9-a649-0149757ebd90",
   "metadata": {},
   "outputs": [
    {
     "data": {
      "text/plain": [
       "(5, 2)"
      ]
     },
     "execution_count": 28,
     "metadata": {},
     "output_type": "execute_result"
    }
   ],
   "source": [
    "z.shape"
   ]
  },
  {
   "cell_type": "markdown",
   "id": "99ae52ca-467a-4c60-9300-a1ce683c1be6",
   "metadata": {},
   "source": [
    "And we can access the number of rows or columns by indexing the `shape` tuple. So\n",
    "\n"
   ]
  },
  {
   "cell_type": "code",
   "execution_count": 29,
   "id": "07b4e7d3-94d2-47df-a1b6-7715efa716b8",
   "metadata": {},
   "outputs": [
    {
     "name": "stdout",
     "output_type": "stream",
     "text": [
      "Number of rows:  5\n",
      "Number of cols:  2\n"
     ]
    }
   ],
   "source": [
    "print(\"Number of rows: \", z.shape[0])\n",
    "print(\"Number of cols: \", z.shape[1])"
   ]
  },
  {
   "cell_type": "markdown",
   "id": "63a39268-176d-4f6d-afd0-3889fb3d9434",
   "metadata": {},
   "source": [
    "Now, let&rsquo;s say we want to generate a random curve, we can do:\n",
    "\n"
   ]
  },
  {
   "cell_type": "code",
   "execution_count": 30,
   "id": "23df5903-ff95-45a3-930a-b63021168e76",
   "metadata": {},
   "outputs": [
    {
     "data": {
      "image/png": "[encoded data removed]",
      "text/plain": [
       "<PIL.Image.Image image mode=RGB size=300x300>"
      ]
     },
     "metadata": {},
     "output_type": "display_data"
    }
   ],
   "source": [
    "create_canvas(300, 300)\n",
    "translate(center)\n",
    "no_fill()\n",
    "points = np.random.uniform(-100, 100, size=(20, 2))\n",
    "curve(points)\n",
    "show()"
   ]
  },
  {
   "cell_type": "markdown",
   "id": "5874814e-c4ec-4c85-bc3b-5bdc0476d3c3",
   "metadata": {},
   "source": [
    "Note that the number of points is the number of rows, and the number of columns is 2, because we are working in 2d (two coordinates per point). If we write\n",
    "\n"
   ]
  },
  {
   "cell_type": "code",
   "execution_count": 31,
   "id": "4dc7b0e6-75af-45cf-a698-6ad6e791e6d6",
   "metadata": {},
   "outputs": [
    {
     "data": {
      "text/plain": [
       "40"
      ]
     },
     "execution_count": 31,
     "metadata": {},
     "output_type": "execute_result"
    }
   ],
   "source": [
    "points.size"
   ]
  },
  {
   "cell_type": "markdown",
   "id": "92b57c94-ffe4-412b-8bf7-0589d1ffcafe",
   "metadata": {},
   "source": [
    "We get the number of **total** elements in the array (2 times the number of points). If we write\n",
    "\n"
   ]
  },
  {
   "cell_type": "code",
   "execution_count": 32,
   "id": "aeba1a0f-b701-4224-ab26-a8d6df01afdd",
   "metadata": {},
   "outputs": [
    {
     "data": {
      "text/plain": [
       "20"
      ]
     },
     "execution_count": 32,
     "metadata": {},
     "output_type": "execute_result"
    }
   ],
   "source": [
    "len(points)"
   ]
  },
  {
   "cell_type": "markdown",
   "id": "8898201c-d646-48a3-afcc-239206458a46",
   "metadata": {},
   "source": [
    "or equivalently, `points.shape[0]`, we actually get the number of points.\n",
    "\n",
    "In line with this, we can loop over the points identically to how we would do with a list or a 1d array, but keep in mind that loops always iterate over the number of rows in the array (not the number of columns). So, a loop over the first 3 points (using the slicing notation again):\n",
    "\n"
   ]
  },
  {
   "cell_type": "code",
   "execution_count": 33,
   "id": "e15e1f06-5a03-40d6-97b8-7baee535fcba",
   "metadata": {},
   "outputs": [
    {
     "name": "stdout",
     "output_type": "stream",
     "text": [
      "[-17.07121473  37.03608097]\n",
      "[-64.88970823 -21.18227212]\n",
      "[  9.62746497 -40.98299401]\n"
     ]
    }
   ],
   "source": [
    "for p in points[:3]:\n",
    "    print(p)"
   ]
  },
  {
   "cell_type": "markdown",
   "id": "d922c3a1-9b80-4b0b-b438-95f9965c2750",
   "metadata": {},
   "source": [
    "###### Stacking elements and transposing (advanced)\n",
    "\n"
   ]
  },
  {
   "cell_type": "markdown",
   "id": "cc9c123a-35f2-4657-938b-b7bc451e6b0b",
   "metadata": {},
   "source": [
    "In this example, we skipped the circle because creating a 2d array with the circle coordinates would require a more advanced syntax. One way to do this compactly would be\n",
    "\n"
   ]
  },
  {
   "cell_type": "code",
   "execution_count": 34,
   "id": "27154f28-5e05-4b00-a7f9-81056aa93dad",
   "metadata": {},
   "outputs": [],
   "source": [
    "circle_points = np.vstack([x, y]).T"
   ]
  },
  {
   "cell_type": "markdown",
   "id": "1ea12502-b352-4ed0-84e4-9fd21f6a639e",
   "metadata": {},
   "source": [
    "This syntax vertically stacks the two 1d coordinate arrays (`np.vstack`) and then &ldquo;transposes&rdquo; the array (the `.T` suffix), meaning it flips rows and columns.\n",
    "\n"
   ]
  },
  {
   "cell_type": "markdown",
   "id": "b0d2c7c6-a1c0-4fc3-a24d-dbe798c96ba6",
   "metadata": {},
   "source": [
    "## Text manipulation, and visualization\n",
    "\n"
   ]
  },
  {
   "cell_type": "markdown",
   "id": "fd3c8eda-381f-4eca-b3c0-8132976cbf59",
   "metadata": {},
   "source": [
    "Python is well know for its very powerful file and text/string manipulation functionalities.\n",
    "You can find an extensive link of examples in [the official string documentation](https://docs.python.org/3/library/stdtypes.html#text-sequence-type-str) or at this [link](https://www.freecodecamp.org/news/python-string-manipulation-handbook/). We will not cover files here, but you can read [this](https://www.w3schools.com/python/python_file_open.asp) for some relevant info. The basic string datatype is called `str`.\n",
    "\n",
    "It can be used as a function to convert numbers or other elements to text, for example converting a number to a string is a simple as\n",
    "\n"
   ]
  },
  {
   "cell_type": "code",
   "execution_count": 35,
   "id": "7d3cc3c1-baca-459d-88b0-527ae127dad4",
   "metadata": {},
   "outputs": [
    {
     "data": {
      "text/plain": [
       "'123.0'"
      ]
     },
     "execution_count": 35,
     "metadata": {},
     "output_type": "execute_result"
    }
   ],
   "source": [
    "str(123.0)"
   ]
  },
  {
   "cell_type": "markdown",
   "id": "14e68a52-d610-4fc8-b84a-75532cfd9686",
   "metadata": {},
   "source": [
    "Strings can be concatenated with the `+` operator, so for example\n",
    "\n"
   ]
  },
  {
   "cell_type": "code",
   "execution_count": 36,
   "id": "76c586db-5300-4b7c-bc52-0034e168cf84",
   "metadata": {},
   "outputs": [
    {
     "data": {
      "text/plain": [
       "'Hello, world'"
      ]
     },
     "execution_count": 36,
     "metadata": {},
     "output_type": "execute_result"
    }
   ],
   "source": [
    "s = \"Hello\" + \", \" + \"world\"\n",
    "s"
   ]
  },
  {
   "cell_type": "markdown",
   "id": "a2f35a16-73e6-4c92-b798-b605e5088388",
   "metadata": {},
   "source": [
    "We can use the `split` method to create a list of strings from an existing one, splitting it at predefined characters or substrings. E.g:\n",
    "\n"
   ]
  },
  {
   "cell_type": "code",
   "execution_count": 37,
   "id": "de5eea6e-88cc-4014-b225-4f41eadd675a",
   "metadata": {},
   "outputs": [
    {
     "data": {
      "text/plain": [
       "['Hello', 'world']"
      ]
     },
     "execution_count": 37,
     "metadata": {},
     "output_type": "execute_result"
    }
   ],
   "source": [
    "s.split(\", \")"
   ]
  },
  {
   "cell_type": "markdown",
   "id": "c1c32a04-2e89-4e49-99ad-3b8075c127f6",
   "metadata": {},
   "source": [
    "Similarly we can use a string to &ldquo;join&rdquo; a list of strings together, with the `join` method:\n",
    "\n"
   ]
  },
  {
   "cell_type": "code",
   "execution_count": 38,
   "id": "73666f77-b239-4b23-b194-5cf46ae5e2f4",
   "metadata": {},
   "outputs": [
    {
     "name": "stdout",
     "output_type": "stream",
     "text": [
      "One, Two, Three, Four\n"
     ]
    }
   ],
   "source": [
    "s = \", \".join([\"One\", \"Two\", \"Three\", \"Four\"])\n",
    "print(s)"
   ]
  },
  {
   "cell_type": "markdown",
   "id": "14ff9cff-1052-4bd4-beb3-ccf24b0c5704",
   "metadata": {},
   "source": [
    "Convert to lower case:\n",
    "\n"
   ]
  },
  {
   "cell_type": "code",
   "execution_count": 39,
   "id": "e36a1545-4106-41a9-ba8c-cfa0abd88d19",
   "metadata": {},
   "outputs": [
    {
     "data": {
      "text/plain": [
       "'one, two, three, four'"
      ]
     },
     "execution_count": 39,
     "metadata": {},
     "output_type": "execute_result"
    }
   ],
   "source": [
    "s.lower()"
   ]
  },
  {
   "cell_type": "markdown",
   "id": "7da2ac50-f502-4b13-a00e-1ca6cbac92c1",
   "metadata": {},
   "source": [
    "or upper case:\n",
    "\n"
   ]
  },
  {
   "cell_type": "code",
   "execution_count": 40,
   "id": "49ada25b-5043-4054-aedd-47e8350b4ef0",
   "metadata": {},
   "outputs": [
    {
     "data": {
      "text/plain": [
       "'ONE, TWO, THREE, FOUR'"
      ]
     },
     "execution_count": 40,
     "metadata": {},
     "output_type": "execute_result"
    }
   ],
   "source": [
    "s.upper()"
   ]
  },
  {
   "cell_type": "markdown",
   "id": "87e7079d-c825-42ac-bfc1-a9aeb460f315",
   "metadata": {},
   "source": [
    "Access elements of a string with &ldquo;slice notation&rdquo;:\n",
    "\n"
   ]
  },
  {
   "cell_type": "code",
   "execution_count": 41,
   "id": "b24a8b99-6b26-472e-a1b4-3f15a4bbea39",
   "metadata": {},
   "outputs": [
    {
     "data": {
      "text/plain": [
       "'ne, Two'"
      ]
     },
     "execution_count": 41,
     "metadata": {},
     "output_type": "execute_result"
    }
   ],
   "source": [
    "s[1:8]"
   ]
  },
  {
   "cell_type": "markdown",
   "id": "540845e9-ebc1-4396-a51c-723d365bec2f",
   "metadata": {},
   "source": [
    "Say you want to write a long text, you can use pairs of triple `\"\"\"` or `` ``` ``. This will keep the newlines in the text, with the new line expressed as the (invisible) character `\"\\n\"`. For example:\n",
    "\n"
   ]
  },
  {
   "cell_type": "code",
   "execution_count": 43,
   "id": "9306195f-266d-4abe-807c-3f73e065e3c3",
   "metadata": {},
   "outputs": [],
   "source": [
    "longtext = \"\"\"Lorem ipsum dolor sit amet, consectetur adipiscing elit, \n",
    "sed do eiusmod tempor incididunt ut labore et dolore magna aliqua.\n",
    "Ut enim ad minim veniam, quis nostrud exercitation ullamco laboris nisi ut aliquip ex ea commodo consequat.\n",
    " Duis aute irure dolor in reprehenderit in voluptate velit esse cillum dolore eu fugiat nulla pariatur.\n",
    "Excepteur sint occaecat cupidatat non proident, \n",
    "sunt in culpa qui officia deserunt mollit anim id est laborum.\"\"\""
   ]
  },
  {
   "cell_type": "markdown",
   "id": "71437ffb-ae35-4a6c-bb9c-c13654d23abe",
   "metadata": {},
   "source": [
    "We can split multiple lines by using the\n",
    "\n"
   ]
  },
  {
   "cell_type": "code",
   "execution_count": 44,
   "id": "5cc749a2-ed4e-45fe-a6dd-f178aefd3abc",
   "metadata": {},
   "outputs": [
    {
     "data": {
      "text/plain": [
       "['Lorem ipsum dolor sit amet, consectetur adipiscing elit, ',\n",
       " 'sed do eiusmod tempor incididunt ut labore et dolore magna aliqua.',\n",
       " 'Ut enim ad minim veniam, quis nostrud exercitation ullamco laboris nisi ut aliquip ex ea commodo consequat.',\n",
       " ' Duis aute irure dolor in reprehenderit in voluptate velit esse cillum dolore eu fugiat nulla pariatur.',\n",
       " 'Excepteur sint occaecat cupidatat non proident, ',\n",
       " 'sunt in culpa qui officia deserunt mollit anim id est laborum.']"
      ]
     },
     "execution_count": 44,
     "metadata": {},
     "output_type": "execute_result"
    }
   ],
   "source": [
    "longtext.splitlines()"
   ]
  },
  {
   "cell_type": "markdown",
   "id": "13f196a7-aa5f-437c-98ca-6d6fc577bddb",
   "metadata": {},
   "source": [
    "giving us a list with each new line in an entry.\n",
    "\n"
   ]
  },
  {
   "cell_type": "markdown",
   "id": "80ef300e-d742-4d85-b2df-9fa01bcd33bf",
   "metadata": {},
   "source": [
    "### Looping over text and indexing (and new loop info)\n",
    "\n"
   ]
  },
  {
   "cell_type": "markdown",
   "id": "bdf0cd00-a879-4658-be7d-35f3b5aeefd8",
   "metadata": {},
   "source": [
    "Text strings are treated like other Python sequences and can be indexed with squared brackets, e.g.\n",
    "\n"
   ]
  },
  {
   "cell_type": "code",
   "execution_count": 45,
   "id": "351fcf5e-4b18-4590-b19b-dbfc8f7eb5ac",
   "metadata": {},
   "outputs": [
    {
     "data": {
      "text/plain": [
       "'H'"
      ]
     },
     "execution_count": 45,
     "metadata": {},
     "output_type": "execute_result"
    }
   ],
   "source": [
    "\"Hello\"[0]"
   ]
  },
  {
   "cell_type": "markdown",
   "id": "4972002b-60fd-4388-b87e-400f9e230004",
   "metadata": {},
   "source": [
    "or used in a `for` loop. For example\n",
    "\n"
   ]
  },
  {
   "cell_type": "code",
   "execution_count": 46,
   "id": "6a68fe11-2a9d-4145-bb19-feb0bd1dd50a",
   "metadata": {},
   "outputs": [
    {
     "name": "stdout",
     "output_type": "stream",
     "text": [
      "H\n",
      "e\n",
      "l\n",
      "l\n",
      "o\n"
     ]
    }
   ],
   "source": [
    "for c in \"Hello\":\n",
    "    print(c)"
   ]
  },
  {
   "cell_type": "markdown",
   "id": "b8ae7f01-5d48-4f8a-9040-4167ad5b9d98",
   "metadata": {},
   "source": [
    "This is not too useful, unless we use two new constructs that are commonly used in Python.\n",
    " The first one, is to retrieve an index from an iteratable sequence.\n",
    "\n"
   ]
  },
  {
   "cell_type": "markdown",
   "id": "eff63fad-6922-47cc-b98b-7dbee05744d5",
   "metadata": {},
   "source": [
    "##### Enumerate\n",
    "\n"
   ]
  },
  {
   "cell_type": "markdown",
   "id": "0f955f85-3a97-4094-b9fb-5eef5336236a",
   "metadata": {},
   "source": [
    "To do so we can use the `enumerate` function, which gives us back the next element in a sequence, preceded by its index (starting from 0). For example\n",
    "\n"
   ]
  },
  {
   "cell_type": "code",
   "execution_count": 47,
   "id": "d509d692-64fb-4620-9ded-1b3f145c53d9",
   "metadata": {},
   "outputs": [
    {
     "name": "stdout",
     "output_type": "stream",
     "text": [
      "0 H\n",
      "1 e\n",
      "2 l\n",
      "3 l\n",
      "4 o\n"
     ]
    }
   ],
   "source": [
    "for i, c in enumerate(\"Hello\"):\n",
    "    print(i, c)"
   ]
  },
  {
   "cell_type": "markdown",
   "id": "04336378-acfe-4afb-b59e-d4170d47be50",
   "metadata": {},
   "source": [
    "Note that we have the common syntax here of `enumerate` giving back a tuple with the index followed by the element in the sequence.\n",
    "\n",
    "In practice this is the same as doing:\n",
    "\n"
   ]
  },
  {
   "cell_type": "code",
   "execution_count": 48,
   "id": "d47085ca-0192-4171-a938-42ec0f35f6a8",
   "metadata": {},
   "outputs": [
    {
     "name": "stdout",
     "output_type": "stream",
     "text": [
      "0 H\n",
      "1 e\n",
      "2 l\n",
      "3 l\n",
      "4 o\n"
     ]
    }
   ],
   "source": [
    "i = 0\n",
    "for c in \"Hello\":\n",
    "    print(i, c)\n",
    "    i += 1"
   ]
  },
  {
   "cell_type": "markdown",
   "id": "14eaae28-8de5-4197-8b90-0d1dc2948474",
   "metadata": {},
   "source": [
    "But `enumerate` is more concise and more often used.\n",
    "\n"
   ]
  },
  {
   "cell_type": "markdown",
   "id": "8eb3ec72-e45f-4329-ba9e-3dd0dbd10e83",
   "metadata": {},
   "source": [
    "##### Zip\n",
    "\n"
   ]
  },
  {
   "cell_type": "markdown",
   "id": "9b8ff6e1-62cb-4316-b2a1-76e600b18316",
   "metadata": {},
   "source": [
    "Another usedul trick is to merge two or more sequences together, so we can iterate over these in parallel, we can use the function `zip`, which will iterate in parallel over all the sequences contained in its arguments. For example:\n",
    "\n"
   ]
  },
  {
   "cell_type": "code",
   "execution_count": 49,
   "id": "1fe7edb6-504d-4694-8c79-a960b84525c9",
   "metadata": {},
   "outputs": [
    {
     "name": "stdout",
     "output_type": "stream",
     "text": [
      "H W\n",
      "e o\n",
      "l r\n",
      "l l\n",
      "o d\n"
     ]
    }
   ],
   "source": [
    "for (c1, c2) in zip(\"Hello\", \"World\"):\n",
    "    print(c1, c2)"
   ]
  },
  {
   "cell_type": "markdown",
   "id": "5e430dbb-4aa9-46f4-9cb9-6250f90d9513",
   "metadata": {},
   "source": [
    "Here we write parenthes around `c1` and `c2` to emphaisze that it is a tuple.\n",
    "\n",
    "Say for example we wish to draw circles along the X axis, with radius dependent on the [ASCII](https://www.ascii-code.com) code (a number representing characters ) of a character in a string, which is very basic way of transforming text into images. We can get an ascii code from a charter using the `ord` function:\n",
    "\n"
   ]
  },
  {
   "cell_type": "code",
   "execution_count": 50,
   "id": "d8731825-c86f-4d4f-ab1a-897d5e84eb84",
   "metadata": {},
   "outputs": [
    {
     "data": {
      "text/plain": [
       "65"
      ]
     },
     "execution_count": 50,
     "metadata": {},
     "output_type": "execute_result"
    }
   ],
   "source": [
    "ord(\"A\")"
   ]
  },
  {
   "cell_type": "markdown",
   "id": "d835cda2-5dd3-4f16-ab90-b027d2908a8c",
   "metadata": {},
   "source": [
    "Then\n",
    "\n"
   ]
  },
  {
   "cell_type": "code",
   "execution_count": 51,
   "id": "ad01c53b-7c55-4e3c-93a6-fa803043fd57",
   "metadata": {},
   "outputs": [
    {
     "data": {
      "image/png": "[encoded data removed]",
      "text/plain": [
       "<PIL.Image.Image image mode=RGB size=500x100>"
      ]
     },
     "metadata": {},
     "output_type": "display_data"
    }
   ],
   "source": [
    "string = \"Hello world\"\n",
    "create_canvas(500, 100)\n",
    "background(0)\n",
    "xs = linspace(30, width-30, len(string))\n",
    "for x, c in zip(xs, string):\n",
    "    circle(x, height/2, ord(c)*0.3)\n",
    "show()"
   ]
  },
  {
   "cell_type": "markdown",
   "id": "08fb9ac9-c565-4cbe-8f75-ef43b20b2810",
   "metadata": {},
   "source": [
    "Again we could rewrite this avoiding `zip`. One way could be this\n",
    "\n"
   ]
  },
  {
   "cell_type": "code",
   "execution_count": 52,
   "id": "d5153902-90eb-4794-9aae-451fd3e1c8a4",
   "metadata": {},
   "outputs": [
    {
     "data": {
      "image/png": "[encoded data removed]",
      "text/plain": [
       "<PIL.Image.Image image mode=RGB size=500x100>"
      ]
     },
     "metadata": {},
     "output_type": "display_data"
    }
   ],
   "source": [
    "string = \"Hello world\"\n",
    "create_canvas(500, 100)\n",
    "background(0)\n",
    "xs = linspace(30, width-30, len(string))\n",
    "for i in range(len(string)):\n",
    "    circle(xs[i], height/2, ord(string[i])*0.3)\n",
    "show()"
   ]
  },
  {
   "cell_type": "markdown",
   "id": "864ebea8-98f8-46ab-b9d5-eb1ba12adb87",
   "metadata": {},
   "source": [
    "But the code is somewhat less redable. In Python jargon the code is said to be less [&ldquo;Pythonic&rdquo;](https://docs.python-guide.org/writing/style/), i.e. it lacks a somewhat &ldquo;elegant&rdquo; aesthetic that can be achieved with the language.\n",
    "\n"
   ]
  },
  {
   "cell_type": "markdown",
   "id": "f2ea1c78-d6b5-4ad8-b183-29f8af3250de",
   "metadata": {},
   "source": [
    "### Text in Py5canvas\n",
    "\n"
   ]
  },
  {
   "cell_type": "markdown",
   "id": "d618b59e-8286-427c-bc8d-067e02092e70",
   "metadata": {},
   "source": [
    "Let&rsquo;s start by visualizing a string of text centered on the canvas using the Arial font (usually installed on a system):\n",
    "\n"
   ]
  },
  {
   "cell_type": "code",
   "execution_count": 53,
   "id": "6f17d845-1cda-4c20-8359-fa35e43b609b",
   "metadata": {},
   "outputs": [
    {
     "data": {
      "image/png": "[encoded data removed]",
      "text/plain": [
       "<PIL.Image.Image image mode=RGB size=300x300>"
      ]
     },
     "metadata": {},
     "output_type": "display_data"
    }
   ],
   "source": [
    "create_canvas(300, 300)\n",
    "translate(center)\n",
    "text_align('center', 'center')\n",
    "text_font('Arial')\n",
    "text_size(40)\n",
    "text(\"PyFAD\", [0, 0])\n",
    "show()"
   ]
  },
  {
   "cell_type": "markdown",
   "id": "b527ef46-d500-4dcf-8703-32cc0ee76b5b",
   "metadata": {},
   "source": [
    "Now say you have a TrueType (&ldquo;.ttf&rdquo; extension) font that you want to load. You can do so by specifying a path relative to your script or notebook for the file. If the file is located in the same directory as your script, simply specify the file name. E.g. you can download the &ldquo;NotoSansSC&rdquo; font from here\n",
    "\n"
   ]
  },
  {
   "cell_type": "code",
   "execution_count": 56,
   "id": "4a5f8d72-5392-47c3-ba1f-9bb4405e568c",
   "metadata": {},
   "outputs": [
    {
     "data": {
      "image/png": "[encoded data removed]",
      "text/plain": [
       "<PIL.Image.Image image mode=RGB size=300x300>"
      ]
     },
     "metadata": {},
     "output_type": "display_data"
    }
   ],
   "source": [
    "create_canvas(300, 300)\n",
    "translate(center)\n",
    "text_font('NotoSansSC-Bold.ttf')\n",
    "text_size(70)\n",
    "fill(255)\n",
    "no_stroke()\n",
    "stroke_weight(2)\n",
    "txt = \"蛇fad\"\n",
    "text_align('center', 'center')\n",
    "text(txt, [0, 0])\n",
    "no_fill()\n",
    "stroke(0)\n",
    "box = text_bounds(txt, [0, 0])\n",
    "rectangle(box.x, box.y, box.w, box.h)\n",
    "show()"
   ]
  },
  {
   "cell_type": "markdown",
   "id": "19fa0f3d-dd0c-4310-9a50-326cd824085e",
   "metadata": {},
   "source": [
    "Note that the font in question has Chinese characters embedded in it, but many fonts will not.\n",
    "\n",
    "The function `text_bounds` gives us a data structure describing the bounding box of the text. The properties `.x`, `.y` give the top left corner and the properties `.w` and `.h` the width and height.\n",
    "\n"
   ]
  },
  {
   "cell_type": "markdown",
   "id": "226efd03-d4a0-4ef2-adf4-77d69e60ef85",
   "metadata": {},
   "source": [
    "### Sampling text, getting points or paths from a font\n",
    "\n"
   ]
  },
  {
   "cell_type": "code",
   "execution_count": 57,
   "id": "2cf308b7-97ad-4409-97be-213a4475a7a1",
   "metadata": {},
   "outputs": [
    {
     "data": {
      "image/png": "[encoded data removed]",
      "text/plain": [
       "<PIL.Image.Image image mode=RGB size=300x300>"
      ]
     },
     "metadata": {},
     "output_type": "display_data"
    }
   ],
   "source": [
    "create_canvas(300, 300)\n",
    "translate(center)\n",
    "text_font('Arial')\n",
    "text_size(180)\n",
    "fill(255)\n",
    "no_stroke()\n",
    "stroke_weight(2)\n",
    "txt = \"R\"\n",
    "text_align('center', 'center')\n",
    "points = text_points(txt, [0, 0], 7)\n",
    "for p in points:\n",
    "    circle(p, 2)\n",
    "show()"
   ]
  },
  {
   "cell_type": "markdown",
   "id": "23abab58-b159-49c3-bebf-3e8598fedd20",
   "metadata": {},
   "source": [
    "The last parameter to `text_points` gives an approximate distance between points when sampling the letters of the font. This is in no way precise and depends on how the font has been built (in terms of Bezier curve segments)\n",
    "\n",
    "Alternatively you can get also a shape to draw with a simiar `text_shape` function. This gives a list of polygons that you can draw with the Py5Canvas `shape` function, or you can list over all polylines (2d numpy arrays) and do things with these:\n",
    "\n"
   ]
  },
  {
   "cell_type": "code",
   "execution_count": 58,
   "id": "b336f527-52e1-43c7-8c16-c417182e4a10",
   "metadata": {},
   "outputs": [
    {
     "data": {
      "image/png": "[encoded data removed]",
      "text/plain": [
       "<PIL.Image.Image image mode=RGB size=300x300>"
      ]
     },
     "metadata": {},
     "output_type": "display_data"
    }
   ],
   "source": [
    "create_canvas(300, 300)\n",
    "translate(center)\n",
    "text_font('Arial')\n",
    "text_size(180)\n",
    "\n",
    "stroke_weight(2)\n",
    "txt = \"R\"\n",
    "text_align('center', 'center')\n",
    "points_list = text_shape(txt, [0, 0], 10)\n",
    "\n",
    "stroke(0)\n",
    "no_fill()\n",
    "shape(points_list, True)\n",
    "\n",
    "fill(255, 0, 0)\n",
    "no_stroke()\n",
    "\n",
    "for points in points_list:\n",
    "    for p in points:\n",
    "        circle(p, 2)\n",
    "show()"
   ]
  },
  {
   "cell_type": "markdown",
   "id": "247c62e7",
   "metadata": {},
   "source": [
    "# Additional resources\n",
    "\n",
    "I did some work research work using text/fonts:\n",
    "\n",
    "- Trying to get \"strokes\" from font outlines (a nightmare:)) https://doc.gold.ac.uk/autograff/post/papers/strokestyles_2022/ \n",
    "- Transforming vector fonts using prompts and machine learning https://wordasimage.github.io/Word-As-Image-Page/\n",
    "\n",
    "Or using similar tech with artistic projects:\n",
    "\n",
    "- Continuum with Liat Grayver and Noa Al Badri https://liatgrayver.com/PROJECTS/Continuum/\n",
    "\n",
    "A nice library (I haven't extensively tried yet) to generate sequences of text:\n",
    "\n",
    "- https://github.com/leonardr/olipy\n",
    "\n",
    "You can install it *with the py5 environment active* using `pip install olipy`"
   ]
  },
  {
   "cell_type": "markdown",
   "id": "c4d9cfec-d7fb-4590-a5f7-f1068efed652",
   "metadata": {},
   "source": [
    "\n",
    "<style>.csl-entry{text-indent: -1.5em; margin-left: 1.5em;}</style><div class=\"csl-bib-body\">\n",
    "</div>\n",
    "\n"
   ]
  }
 ],
 "metadata": {
  "kernelspec": {
   "display_name": "base",
   "language": "python",
   "name": "python3"
  },
  "language_info": {
   "codemirror_mode": {
    "name": "ipython",
    "version": 3
   },
   "file_extension": ".py",
   "mimetype": "text/x-python",
   "name": "python",
   "nbconvert_exporter": "python",
   "pygments_lexer": "ipython3",
   "version": "3.10.8"
  },
  "org": null
 },
 "nbformat": 4,
 "nbformat_minor": 5
}
